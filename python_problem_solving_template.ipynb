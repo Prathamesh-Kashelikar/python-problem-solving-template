{
  "cells": [
    {
      "cell_type": "markdown",
      "metadata": {
        "id": "view-in-github",
        "colab_type": "text"
      },
      "source": [
        "<a href=\"https://colab.research.google.com/github/Prathamesh-Kashelikar/python-problem-solving-template/blob/main/python_problem_solving_template.ipynb\" target=\"_parent\"><img src=\"https://colab.research.google.com/assets/colab-badge.svg\" alt=\"Open In Colab\"/></a>"
      ]
    },
    {
      "cell_type": "code",
      "execution_count": 1,
      "id": "839187b1",
      "metadata": {
        "colab": {
          "base_uri": "https://localhost:8080/"
        },
        "id": "839187b1",
        "outputId": "238b076e-938e-4441-b227-719ad5bc0302"
      },
      "outputs": [
        {
          "output_type": "stream",
          "name": "stdout",
          "text": [
            "\u001b[?25l\r\u001b[K     |████▊                           | 10 kB 12.1 MB/s eta 0:00:01\r\u001b[K     |█████████▌                      | 20 kB 18.6 MB/s eta 0:00:01\r\u001b[K     |██████████████▎                 | 30 kB 23.2 MB/s eta 0:00:01\r\u001b[K     |███████████████████             | 40 kB 9.3 MB/s eta 0:00:01\r\u001b[K     |███████████████████████▉        | 51 kB 8.7 MB/s eta 0:00:01\r\u001b[K     |████████████████████████████▋   | 61 kB 10.0 MB/s eta 0:00:01\r\u001b[K     |████████████████████████████████| 68 kB 3.8 MB/s \n",
            "\u001b[?25h  Building wheel for uuid (setup.py) ... \u001b[?25l\u001b[?25hdone\n"
          ]
        }
      ],
      "source": [
        "# Jovian Commit Essentials\n",
        "# Please retain and execute this cell without modifying the contents for `jovian.commit` to work\n",
        "!pip install jovian --upgrade -q\n",
        "import jovian\n",
        "jovian.set_project('python-problem-solving-template')\n",
        "jovian.set_colab_id('1BjYeynZ3719lS60sbbBK97MdCTt01ru0')"
      ]
    },
    {
      "cell_type": "markdown",
      "id": "2435cb8f",
      "metadata": {
        "id": "2435cb8f"
      },
      "source": [
        "# Problem Solving Template (change the title)\n",
        "\n",
        "_To learn how to use this template, check out the course [\"Data Structures and Algorithms in Python\"](https://jovian.ai/learn/data-structures-and-algorithms-in-python)._\n",
        "\n",
        "\n"
      ]
    },
    {
      "cell_type": "markdown",
      "id": "16405efb",
      "metadata": {
        "id": "16405efb"
      },
      "source": [
        "## How to run the code and save your work\n",
        "\n",
        "The recommended way to run this notebook is to click the \"Run\" button at the top of this page, and select \"Run on Binder\". This will run the notebook on [mybinder.org](https://mybinder.org), a free online service for running Jupyter notebooks. \n",
        "\n",
        "This tutorial is an executable [Jupyter notebook](https://jupyter.org). You can _run_ this tutorial and experiment with the code examples in a couple of ways: *using free online resources* (recommended) or *on your computer*.\n",
        "\n",
        "#### Option 1: Running using free online resources (1-click, recommended)\n",
        "\n",
        "The easiest way to start executing the code is to click the **Run** button at the top of this page and select **Run on Binder**. You can also select \"Run on Colab\" or \"Run on Kaggle\", but you'll need to create an account on [Google Colab](https://colab.research.google.com) or [Kaggle](https://kaggle.com) to use these platforms.\n",
        "\n",
        "\n",
        "#### Option 2: Running on your computer locally\n",
        "\n",
        "To run the code on your computer locally, you'll need to set up [Python](https://www.python.org), download the notebook and install the required libraries. We recommend using the [Conda](https://docs.conda.io/projects/conda/en/latest/user-guide/install/) distribution of Python. Click the **Run** button at the top of this page, select the **Run Locally** option, and follow the instructions.\n",
        "\n",
        "#### Saving your work\n",
        "\n",
        "Before staring the assignment, let's save a snapshot of the assignment to your [Jovian](https://jovian.ai) profile, so that you can access it later, and continue your work."
      ]
    },
    {
      "cell_type": "code",
      "execution_count": 3,
      "id": "8a7e29d2",
      "metadata": {
        "id": "8a7e29d2"
      },
      "outputs": [],
      "source": [
        "project_name = 'longest-common-subsequence' # give it an appropriate name"
      ]
    },
    {
      "cell_type": "code",
      "execution_count": 4,
      "id": "9440dd0c",
      "metadata": {
        "id": "9440dd0c"
      },
      "outputs": [],
      "source": [
        "!pip install jovian --upgrade --quiet"
      ]
    },
    {
      "cell_type": "code",
      "execution_count": 5,
      "id": "3ff3f4f5",
      "metadata": {
        "id": "3ff3f4f5"
      },
      "outputs": [],
      "source": [
        "import jovian"
      ]
    },
    {
      "cell_type": "code",
      "execution_count": 6,
      "id": "3a8b58ac",
      "metadata": {
        "colab": {
          "base_uri": "https://localhost:8080/",
          "height": 122
        },
        "id": "3a8b58ac",
        "outputId": "f6db1ecc-5a23-4f8e-b669-2d1cbc750a19"
      },
      "outputs": [
        {
          "output_type": "stream",
          "name": "stdout",
          "text": [
            "[jovian] Detected Colab notebook...\u001b[0m\n",
            "[jovian] Please enter your API key ( from https://jovian.ai/ ):\u001b[0m\n",
            "API KEY: ··········\n",
            "[jovian] Uploading colab notebook to Jovian...\u001b[0m\n",
            "Committed successfully! https://jovian.ai/prathamesh-kashelikar/longest-common-subsequence\n"
          ]
        },
        {
          "output_type": "execute_result",
          "data": {
            "text/plain": [
              "'https://jovian.ai/prathamesh-kashelikar/longest-common-subsequence'"
            ],
            "application/vnd.google.colaboratory.intrinsic+json": {
              "type": "string"
            }
          },
          "metadata": {},
          "execution_count": 6
        }
      ],
      "source": [
        "jovian.commit(project=project_name)"
      ]
    },
    {
      "cell_type": "markdown",
      "id": "a393afc7",
      "metadata": {
        "id": "a393afc7"
      },
      "source": [
        "## Problem Statement\n",
        "\n",
        "\n",
        "> ??? (past the problem statement here)\n",
        "\n",
        "\n",
        "Source: ??? (link to the source)"
      ]
    },
    {
      "cell_type": "markdown",
      "id": "faf3ce74",
      "metadata": {
        "id": "faf3ce74"
      },
      "source": [
        "## The Method\n",
        "\n",
        "Here's the systematic strategy we'll apply for solving problems:\n",
        "\n",
        "1. State the problem clearly. Identify the input & output formats.\n",
        "2. Come up with some example inputs & outputs. Try to cover all edge cases.\n",
        "3. Come up with a correct solution for the problem. State it in plain English.\n",
        "4. Implement the solution and test it using example inputs. Fix bugs, if any.\n",
        "5. Analyze the algorithm's complexity and identify inefficiencies, if any.\n",
        "6. Apply the right technique to overcome the inefficiency. Repeat steps 3 to 6.\n",
        "\n",
        "This approach is explained in detail in [Lesson 1](https://jovian.ai/learn/data-structures-and-algorithms-in-python/lesson/lesson-1-binary-search-linked-lists-and-complexity) of the course. Let's apply this approach step-by-step."
      ]
    },
    {
      "cell_type": "markdown",
      "id": "3eace7bc",
      "metadata": {
        "id": "3eace7bc"
      },
      "source": [
        "## Solution\n",
        "\n",
        "\n",
        "### 1. State the problem clearly. Identify the input & output formats.\n",
        "\n",
        "While this problem is stated clearly enough, it's always useful to try and express in your own words, in a way that makes it most clear for you. \n",
        "\n",
        "\n",
        "**Problem**\n",
        "\n",
        "> we have given two words , and we need to find longest common subsequence between them\n",
        "\n",
        "<br/>\n",
        "\n",
        "\n",
        "**Input**\n",
        "\n",
        "1. word / seq 1: `serendipitous`\n",
        "2. word2 / seq 2 : `precipitation`\n",
        "\n",
        "(add more if required)\n",
        "\n",
        "\n",
        "**Output**\n",
        "\n",
        "1. length : Length of longest common subsequence e.g. `r,e,i,p,i,t,o` i.e.`7`\n",
        "\n",
        "\n",
        "(add more if required)\n",
        "\n",
        "<br/>\n",
        "\n",
        "Based on the above, we can now create a signature of our function:"
      ]
    },
    {
      "cell_type": "code",
      "execution_count": 11,
      "id": "1b8da724",
      "metadata": {
        "id": "1b8da724"
      },
      "outputs": [],
      "source": [
        "# Create a function signature here. The body of the function can contain a single statement: pass\n",
        "def len_lcs(seq1,seq2):\n",
        "  pass"
      ]
    },
    {
      "cell_type": "markdown",
      "id": "72ba61c3",
      "metadata": {
        "id": "72ba61c3"
      },
      "source": [
        "Save and upload your work before continuing."
      ]
    },
    {
      "cell_type": "code",
      "execution_count": 12,
      "id": "ea4a1c1f",
      "metadata": {
        "id": "ea4a1c1f"
      },
      "outputs": [],
      "source": [
        "import jovian"
      ]
    },
    {
      "cell_type": "code",
      "execution_count": 13,
      "id": "45770742",
      "metadata": {
        "colab": {
          "base_uri": "https://localhost:8080/",
          "height": 87
        },
        "id": "45770742",
        "outputId": "011470bc-f94b-4bab-c64a-6ef4267323e5"
      },
      "outputs": [
        {
          "output_type": "stream",
          "name": "stdout",
          "text": [
            "[jovian] Detected Colab notebook...\u001b[0m\n",
            "[jovian] Uploading colab notebook to Jovian...\u001b[0m\n",
            "Committed successfully! https://jovian.ai/prathamesh-kashelikar/longest-common-subsequence\n"
          ]
        },
        {
          "output_type": "execute_result",
          "data": {
            "text/plain": [
              "'https://jovian.ai/prathamesh-kashelikar/longest-common-subsequence'"
            ],
            "application/vnd.google.colaboratory.intrinsic+json": {
              "type": "string"
            }
          },
          "metadata": {},
          "execution_count": 13
        }
      ],
      "source": [
        "jovian.commit()"
      ]
    },
    {
      "cell_type": "markdown",
      "id": "974c3c7b",
      "metadata": {
        "id": "974c3c7b"
      },
      "source": [
        "### 2. Come up with some example inputs & outputs. Try to cover all edge cases.\n",
        "\n",
        "Our function should be able to handle any set of valid inputs we pass into it. Here's a list of some possible variations we might encounter:\n",
        "\n",
        "1. no common subsequence\n",
        "2. one is subseq. of other\n",
        "3. one seq is empty\n",
        "4. both seq empty\n",
        "5. multiple subseq. with same length\n",
        "`abcdef` and `badcfe` eg. ace and bdf\n",
        "\n",
        "(add more if required)\n",
        "\n",
        "\n",
        "We'll express our test cases as dictionaries, to test them easily. Each dictionary will contain 2 keys: `input` (a dictionary itself containing one key for each argument to the function and `output` (the expected result from the function). "
      ]
    },
    {
      "cell_type": "code",
      "execution_count": 14,
      "id": "f9f62e0c",
      "metadata": {
        "id": "f9f62e0c"
      },
      "outputs": [],
      "source": [
        "test = {\n",
        "    'input': {\n",
        "        'seq1' : 'serendipitous',\n",
        "        'seq2' : 'precipitation'\n",
        "    },\n",
        "    'output': 7\n",
        "}"
      ]
    },
    {
      "cell_type": "markdown",
      "id": "c19f4eb4",
      "metadata": {
        "id": "c19f4eb4"
      },
      "source": [
        "Create one test case for each of the scenarios listed above. We'll store our test cases in an array called `tests`."
      ]
    },
    {
      "cell_type": "code",
      "execution_count": 15,
      "id": "91655cd8",
      "metadata": {
        "id": "91655cd8"
      },
      "outputs": [],
      "source": [
        "tests = []"
      ]
    },
    {
      "cell_type": "code",
      "execution_count": 16,
      "id": "6f48ad2b",
      "metadata": {
        "id": "6f48ad2b"
      },
      "outputs": [],
      "source": [
        "tests.append(test)"
      ]
    },
    {
      "cell_type": "code",
      "execution_count": 17,
      "id": "26002fa2",
      "metadata": {
        "id": "26002fa2"
      },
      "outputs": [],
      "source": [
        "test1 = {\n",
        "    'input': {\n",
        "        'seq1' : [1,3,5,6,7,2,5,2,3],\n",
        "        'seq2' : [6,2,4,7,1,5,6,2,3]\n",
        "    },\n",
        "    'output': 5\n",
        "}"
      ]
    },
    {
      "cell_type": "code",
      "execution_count": 18,
      "id": "bee2b20a",
      "metadata": {
        "id": "bee2b20a"
      },
      "outputs": [],
      "source": [
        "test2 = {\n",
        "    'input': {\n",
        "        'seq1' : 'longest',\n",
        "        'seq2' : 'stone'\n",
        "    },\n",
        "    'output': 3\n",
        "}"
      ]
    },
    {
      "cell_type": "code",
      "execution_count": 19,
      "id": "a73eff97",
      "metadata": {
        "id": "a73eff97"
      },
      "outputs": [],
      "source": [
        "test3 = {\n",
        "    'input': {\n",
        "        'seq1' : 'asdfwevad',\n",
        "        'seq2' : 'opkpoiklklj'\n",
        "    },\n",
        "    'output': 0\n",
        "}"
      ]
    },
    {
      "cell_type": "code",
      "source": [
        "test4 = {\n",
        "    'input': {\n",
        "        'seq1' : 'dense',\n",
        "        'seq2' : 'condensed'\n",
        "    },\n",
        "    'output': 5\n",
        "}"
      ],
      "metadata": {
        "id": "5Xl8TVgni5mO"
      },
      "id": "5Xl8TVgni5mO",
      "execution_count": 20,
      "outputs": []
    },
    {
      "cell_type": "code",
      "source": [
        "test5 = {\n",
        "    'input': {\n",
        "        'seq1' : '',\n",
        "        'seq2' : 'opkpoiklklj'\n",
        "    },\n",
        "    'output': 0\n",
        "}"
      ],
      "metadata": {
        "id": "uIC5jJCajLsL"
      },
      "id": "uIC5jJCajLsL",
      "execution_count": 21,
      "outputs": []
    },
    {
      "cell_type": "code",
      "source": [
        "test6 = {\n",
        "    'input': {\n",
        "        'seq1' : '',\n",
        "        'seq2' : ''\n",
        "    },\n",
        "    'output': 0\n",
        "}"
      ],
      "metadata": {
        "id": "SIuosvuBjNwo"
      },
      "id": "SIuosvuBjNwo",
      "execution_count": 22,
      "outputs": []
    },
    {
      "cell_type": "code",
      "source": [
        "test7 = {\n",
        "    'input': {\n",
        "        'seq1' : 'abcdef',\n",
        "        'seq2' : 'badcfe'\n",
        "    },\n",
        "    'output': 3\n",
        "}"
      ],
      "metadata": {
        "id": "V6A9IX7kjr3e"
      },
      "id": "V6A9IX7kjr3e",
      "execution_count": 23,
      "outputs": []
    },
    {
      "cell_type": "code",
      "source": [
        "lcs_tests = [test1,test2,test3,test4,test5,test6,test7]"
      ],
      "metadata": {
        "id": "U0v3_Xpbj1Z8"
      },
      "id": "U0v3_Xpbj1Z8",
      "execution_count": 24,
      "outputs": []
    },
    {
      "cell_type": "markdown",
      "id": "29f12418",
      "metadata": {
        "id": "29f12418"
      },
      "source": [
        "### 3. Come up with a correct solution for the problem. State it in plain English.\n",
        "\n",
        "Our first goal should always be to come up with a _correct_ solution to the problem, which may not necessarily be the most _efficient_ solution. Come with a correct solution and explain it in simple words below:\n",
        "\n",
        "1. Create two counters idx1 and idx2 starting at 0. Our recursive function will compute the LCS of seq1[idx1:] and seq2[idx2:]\n",
        "2. If seq1[idx1] and seq2[idx2] are equal, then this character belongs to the LCS of seq1[idx1:] and seq2[idx2:] (why?). Further the length this is LCS is one more than LCS of seq1[idx1+1:] and seq2[idx2+1:]\n",
        "3. If not, then the LCS of seq1[idx1:] and seq2[idx2:] is the longer one among the LCS of seq1[idx1+1:], seq2[idx2:] and the LCS of seq1[idx1:], seq2[idx2+1:]\n",
        "4. If either seq1[idx1:] or seq2[idx2:] is empty, then their LCS is empty.\n",
        "5. **???**\n",
        "\n",
        "(add more steps if required)\n",
        "\n",
        "\n",
        "Let's save and upload our work before continuing.\n",
        "\n",
        "\n"
      ]
    },
    {
      "cell_type": "code",
      "execution_count": 25,
      "id": "29ab677d",
      "metadata": {
        "colab": {
          "base_uri": "https://localhost:8080/",
          "height": 87
        },
        "id": "29ab677d",
        "outputId": "10724154-5ee2-4f38-8c86-c82a1054f86a"
      },
      "outputs": [
        {
          "output_type": "stream",
          "name": "stdout",
          "text": [
            "[jovian] Detected Colab notebook...\u001b[0m\n",
            "[jovian] Uploading colab notebook to Jovian...\u001b[0m\n",
            "Committed successfully! https://jovian.ai/prathamesh-kashelikar/longest-common-subsequence\n"
          ]
        },
        {
          "output_type": "execute_result",
          "data": {
            "text/plain": [
              "'https://jovian.ai/prathamesh-kashelikar/longest-common-subsequence'"
            ],
            "application/vnd.google.colaboratory.intrinsic+json": {
              "type": "string"
            }
          },
          "metadata": {},
          "execution_count": 25
        }
      ],
      "source": [
        "jovian.commit()"
      ]
    },
    {
      "cell_type": "markdown",
      "id": "dd9e28e5",
      "metadata": {
        "id": "dd9e28e5"
      },
      "source": [
        "###  4. Implement the solution and test it using example inputs. Fix bugs, if any."
      ]
    },
    {
      "cell_type": "code",
      "execution_count": 26,
      "id": "d3c89a89",
      "metadata": {
        "id": "d3c89a89"
      },
      "outputs": [],
      "source": [
        "def lcs_recursive(seq1,seq2,idx1=0,idx2=0):\n",
        "  if idx1 == len(seq1) or idx2 == len(seq2):\n",
        "    return 0\n",
        "  elif seq1[idx1]==seq2[idx2]:\n",
        "    return 1 + lcs_recursive(seq1,seq2,idx1+1,idx2+1)\n",
        "  else:\n",
        "    option1 = lcs_recursive(seq1,seq2,idx1+1,idx2)\n",
        "    option2 = lcs_recursive(seq1,seq2,idx1,idx2+1)\n",
        "    return max(option1,option2)"
      ]
    },
    {
      "cell_type": "code",
      "execution_count": 29,
      "id": "ab0f4d08",
      "metadata": {
        "colab": {
          "base_uri": "https://localhost:8080/"
        },
        "id": "ab0f4d08",
        "outputId": "29c6c984-5250-4a38-b45a-715f723cdee3"
      },
      "outputs": [
        {
          "output_type": "stream",
          "name": "stdout",
          "text": [
            "CPU times: user 467 ms, sys: 0 ns, total: 467 ms\n",
            "Wall time: 470 ms\n"
          ]
        },
        {
          "output_type": "execute_result",
          "data": {
            "text/plain": [
              "True"
            ]
          },
          "metadata": {},
          "execution_count": 29
        }
      ],
      "source": [
        "%%time\n",
        "lcs_recursive(test['input']['seq1'],test['input']['seq2']) == test['output']"
      ]
    },
    {
      "cell_type": "code",
      "execution_count": 30,
      "id": "1da0a38e",
      "metadata": {
        "colab": {
          "base_uri": "https://localhost:8080/"
        },
        "id": "1da0a38e",
        "outputId": "9f9699f9-2c89-470c-f56b-acb94acb6088"
      },
      "outputs": [
        {
          "output_type": "stream",
          "name": "stdout",
          "text": [
            "CPU times: user 471 ms, sys: 0 ns, total: 471 ms\n",
            "Wall time: 474 ms\n"
          ]
        },
        {
          "output_type": "execute_result",
          "data": {
            "text/plain": [
              "True"
            ]
          },
          "metadata": {},
          "execution_count": 30
        }
      ],
      "source": [
        "%%time\n",
        "lcs_recursive(**test['input']) == test['output']"
      ]
    },
    {
      "cell_type": "code",
      "execution_count": null,
      "id": "2df80de0",
      "metadata": {
        "id": "2df80de0"
      },
      "outputs": [],
      "source": [
        ""
      ]
    },
    {
      "cell_type": "markdown",
      "id": "5194b972",
      "metadata": {
        "id": "5194b972"
      },
      "source": [
        "We can test the function by passing the input to it directly or by using the `evaluate_test_case` function from `jovian`."
      ]
    },
    {
      "cell_type": "code",
      "execution_count": 33,
      "id": "73f88202",
      "metadata": {
        "id": "73f88202"
      },
      "outputs": [],
      "source": [
        "from jovian.pythondsa import evaluate_test_cases"
      ]
    },
    {
      "cell_type": "code",
      "execution_count": 34,
      "id": "6517eb13",
      "metadata": {
        "colab": {
          "base_uri": "https://localhost:8080/"
        },
        "id": "6517eb13",
        "outputId": "058e0c94-bbc9-495d-8bb0-8f4c28cce639"
      },
      "outputs": [
        {
          "output_type": "stream",
          "name": "stdout",
          "text": [
            "\n",
            "\u001b[1mTEST CASE #0\u001b[0m\n",
            "\n",
            "Input:\n",
            "{'seq1': [1, 3, 5, 6, 7, 2, 5, 2, 3], 'seq2': [6, 2, 4, 7, 1, 5, 6, 2, 3]}\n",
            "\n",
            "Expected Output:\n",
            "5\n",
            "\n",
            "\n",
            "Actual Output:\n",
            "5\n",
            "\n",
            "Execution Time:\n",
            "9.563 ms\n",
            "\n",
            "Test Result:\n",
            "\u001b[92mPASSED\u001b[0m\n",
            "\n",
            "\n",
            "\u001b[1mTEST CASE #1\u001b[0m\n",
            "\n",
            "Input:\n",
            "{'seq1': 'longest', 'seq2': 'stone'}\n",
            "\n",
            "Expected Output:\n",
            "3\n",
            "\n",
            "\n",
            "Actual Output:\n",
            "3\n",
            "\n",
            "Execution Time:\n",
            "0.328 ms\n",
            "\n",
            "Test Result:\n",
            "\u001b[92mPASSED\u001b[0m\n",
            "\n",
            "\n",
            "\u001b[1mTEST CASE #2\u001b[0m\n",
            "\n",
            "Input:\n",
            "{'seq1': 'asdfwevad', 'seq2': 'opkpoiklklj'}\n",
            "\n",
            "Expected Output:\n",
            "0\n",
            "\n",
            "\n",
            "Actual Output:\n",
            "0\n",
            "\n",
            "Execution Time:\n",
            "135.511 ms\n",
            "\n",
            "Test Result:\n",
            "\u001b[92mPASSED\u001b[0m\n",
            "\n",
            "\n",
            "\u001b[1mTEST CASE #3\u001b[0m\n",
            "\n",
            "Input:\n",
            "{'seq1': 'dense', 'seq2': 'condensed'}\n",
            "\n",
            "Expected Output:\n",
            "5\n",
            "\n",
            "\n",
            "Actual Output:\n",
            "5\n",
            "\n",
            "Execution Time:\n",
            "0.168 ms\n",
            "\n",
            "Test Result:\n",
            "\u001b[92mPASSED\u001b[0m\n",
            "\n",
            "\n",
            "\u001b[1mTEST CASE #4\u001b[0m\n",
            "\n",
            "Input:\n",
            "{'seq1': '', 'seq2': 'opkpoiklklj'}\n",
            "\n",
            "Expected Output:\n",
            "0\n",
            "\n",
            "\n",
            "Actual Output:\n",
            "0\n",
            "\n",
            "Execution Time:\n",
            "0.002 ms\n",
            "\n",
            "Test Result:\n",
            "\u001b[92mPASSED\u001b[0m\n",
            "\n",
            "\n",
            "\u001b[1mTEST CASE #5\u001b[0m\n",
            "\n",
            "Input:\n",
            "{'seq1': '', 'seq2': ''}\n",
            "\n",
            "Expected Output:\n",
            "0\n",
            "\n",
            "\n",
            "Actual Output:\n",
            "0\n",
            "\n",
            "Execution Time:\n",
            "0.002 ms\n",
            "\n",
            "Test Result:\n",
            "\u001b[92mPASSED\u001b[0m\n",
            "\n",
            "\n",
            "\u001b[1mTEST CASE #6\u001b[0m\n",
            "\n",
            "Input:\n",
            "{'seq1': 'abcdef', 'seq2': 'badcfe'}\n",
            "\n",
            "Expected Output:\n",
            "3\n",
            "\n",
            "\n",
            "Actual Output:\n",
            "3\n",
            "\n",
            "Execution Time:\n",
            "0.057 ms\n",
            "\n",
            "Test Result:\n",
            "\u001b[92mPASSED\u001b[0m\n",
            "\n",
            "\n",
            "\u001b[1mSUMMARY\u001b[0m\n",
            "\n",
            "TOTAL: 7, \u001b[92mPASSED\u001b[0m: 7, \u001b[91mFAILED\u001b[0m: 0\n"
          ]
        },
        {
          "output_type": "execute_result",
          "data": {
            "text/plain": [
              "[(5, True, 9.563),\n",
              " (3, True, 0.328),\n",
              " (0, True, 135.511),\n",
              " (5, True, 0.168),\n",
              " (0, True, 0.002),\n",
              " (0, True, 0.002),\n",
              " (3, True, 0.057)]"
            ]
          },
          "metadata": {},
          "execution_count": 34
        }
      ],
      "source": [
        "evaluate_test_cases(lcs_recursive,lcs_tests)"
      ]
    },
    {
      "cell_type": "markdown",
      "id": "6794552f",
      "metadata": {
        "id": "6794552f"
      },
      "source": [
        "Evaluate your function against all the test cases together using the `evaluate_test_cases` (plural) function from `jovian`."
      ]
    },
    {
      "cell_type": "code",
      "execution_count": 46,
      "id": "c2b0144f",
      "metadata": {
        "id": "c2b0144f"
      },
      "outputs": [],
      "source": [
        "from jovian.pythondsa import evaluate_test_cases"
      ]
    },
    {
      "cell_type": "code",
      "execution_count": 47,
      "id": "df1b097c",
      "metadata": {
        "colab": {
          "base_uri": "https://localhost:8080/"
        },
        "id": "df1b097c",
        "outputId": "0c006366-293c-4a99-f0b2-4544a2228609"
      },
      "outputs": [
        {
          "output_type": "stream",
          "name": "stdout",
          "text": [
            "\n",
            "\u001b[1mTEST CASE #0\u001b[0m\n",
            "\n",
            "Input:\n",
            "{'seq1': [1, 3, 5, 6, 7, 2, 5, 2, 3], 'seq2': [6, 2, 4, 7, 1, 5, 6, 2, 3]}\n",
            "\n",
            "Expected Output:\n",
            "5\n",
            "\n",
            "\n",
            "Actual Output:\n",
            "5\n",
            "\n",
            "Execution Time:\n",
            "11.696 ms\n",
            "\n",
            "Test Result:\n",
            "\u001b[92mPASSED\u001b[0m\n",
            "\n",
            "\n",
            "\u001b[1mTEST CASE #1\u001b[0m\n",
            "\n",
            "Input:\n",
            "{'seq1': 'longest', 'seq2': 'stone'}\n",
            "\n",
            "Expected Output:\n",
            "3\n",
            "\n",
            "\n",
            "Actual Output:\n",
            "3\n",
            "\n",
            "Execution Time:\n",
            "0.298 ms\n",
            "\n",
            "Test Result:\n",
            "\u001b[92mPASSED\u001b[0m\n",
            "\n",
            "\n",
            "\u001b[1mTEST CASE #2\u001b[0m\n",
            "\n",
            "Input:\n",
            "{'seq1': 'asdfwevad', 'seq2': 'opkpoiklklj'}\n",
            "\n",
            "Expected Output:\n",
            "0\n",
            "\n",
            "\n",
            "Actual Output:\n",
            "0\n",
            "\n",
            "Execution Time:\n",
            "141.608 ms\n",
            "\n",
            "Test Result:\n",
            "\u001b[92mPASSED\u001b[0m\n",
            "\n",
            "\n",
            "\u001b[1mTEST CASE #3\u001b[0m\n",
            "\n",
            "Input:\n",
            "{'seq1': 'dense', 'seq2': 'condensed'}\n",
            "\n",
            "Expected Output:\n",
            "5\n",
            "\n",
            "\n",
            "Actual Output:\n",
            "5\n",
            "\n",
            "Execution Time:\n",
            "0.199 ms\n",
            "\n",
            "Test Result:\n",
            "\u001b[92mPASSED\u001b[0m\n",
            "\n",
            "\n",
            "\u001b[1mTEST CASE #4\u001b[0m\n",
            "\n",
            "Input:\n",
            "{'seq1': '', 'seq2': 'opkpoiklklj'}\n",
            "\n",
            "Expected Output:\n",
            "0\n",
            "\n",
            "\n",
            "Actual Output:\n",
            "0\n",
            "\n",
            "Execution Time:\n",
            "0.002 ms\n",
            "\n",
            "Test Result:\n",
            "\u001b[92mPASSED\u001b[0m\n",
            "\n",
            "\n",
            "\u001b[1mTEST CASE #5\u001b[0m\n",
            "\n",
            "Input:\n",
            "{'seq1': '', 'seq2': ''}\n",
            "\n",
            "Expected Output:\n",
            "0\n",
            "\n",
            "\n",
            "Actual Output:\n",
            "0\n",
            "\n",
            "Execution Time:\n",
            "0.002 ms\n",
            "\n",
            "Test Result:\n",
            "\u001b[92mPASSED\u001b[0m\n",
            "\n",
            "\n",
            "\u001b[1mTEST CASE #6\u001b[0m\n",
            "\n",
            "Input:\n",
            "{'seq1': 'abcdef', 'seq2': 'badcfe'}\n",
            "\n",
            "Expected Output:\n",
            "3\n",
            "\n",
            "\n",
            "Actual Output:\n",
            "3\n",
            "\n",
            "Execution Time:\n",
            "0.072 ms\n",
            "\n",
            "Test Result:\n",
            "\u001b[92mPASSED\u001b[0m\n",
            "\n",
            "\n",
            "\u001b[1mSUMMARY\u001b[0m\n",
            "\n",
            "TOTAL: 7, \u001b[92mPASSED\u001b[0m: 7, \u001b[91mFAILED\u001b[0m: 0\n"
          ]
        },
        {
          "output_type": "execute_result",
          "data": {
            "text/plain": [
              "[(5, True, 11.696),\n",
              " (3, True, 0.298),\n",
              " (0, True, 141.608),\n",
              " (5, True, 0.199),\n",
              " (0, True, 0.002),\n",
              " (0, True, 0.002),\n",
              " (3, True, 0.072)]"
            ]
          },
          "metadata": {},
          "execution_count": 47
        }
      ],
      "source": [
        "evaluate_test_cases(lcs_recursive,lcs_tests)"
      ]
    },
    {
      "cell_type": "markdown",
      "id": "37a5c8b3",
      "metadata": {
        "id": "37a5c8b3"
      },
      "source": [
        "Verify that all the test cases were evaluated. We expect them all to fail, since we haven't implemented the function yet.\n",
        "\n",
        "Let's save our work before continuing."
      ]
    },
    {
      "cell_type": "code",
      "execution_count": 48,
      "id": "3893a984",
      "metadata": {
        "colab": {
          "base_uri": "https://localhost:8080/",
          "height": 87
        },
        "id": "3893a984",
        "outputId": "71cab5fa-dd1f-47c0-ec2c-183e7ad0be81"
      },
      "outputs": [
        {
          "output_type": "stream",
          "name": "stdout",
          "text": [
            "[jovian] Detected Colab notebook...\u001b[0m\n",
            "[jovian] Uploading colab notebook to Jovian...\u001b[0m\n",
            "Committed successfully! https://jovian.ai/prathamesh-kashelikar/longest-common-subsequence\n"
          ]
        },
        {
          "output_type": "execute_result",
          "data": {
            "text/plain": [
              "'https://jovian.ai/prathamesh-kashelikar/longest-common-subsequence'"
            ],
            "application/vnd.google.colaboratory.intrinsic+json": {
              "type": "string"
            }
          },
          "metadata": {},
          "execution_count": 48
        }
      ],
      "source": [
        "jovian.commit()"
      ]
    },
    {
      "cell_type": "code",
      "execution_count": null,
      "id": "6e6fc0a8",
      "metadata": {
        "id": "6e6fc0a8"
      },
      "outputs": [],
      "source": [
        ""
      ]
    },
    {
      "cell_type": "markdown",
      "id": "049abd00",
      "metadata": {
        "id": "049abd00"
      },
      "source": [
        "### 5. Analyze the algorithm's complexity and identify inefficiencies, if any.\n",
        "\n"
      ]
    },
    {
      "cell_type": "markdown",
      "metadata": {
        "id": "Doa_Q3cRlzMJ"
      },
      "source": [
        "#### Complexity Analysis\n",
        "\n",
        "Worst case occurs when each time we have to try 2 subproblems i.e. when the sequences have no common elements.\n",
        "\n",
        "<img src=\"https://i.imgur.com/z5m36m8.png\" width=\"360\">\n",
        "\n",
        "Here's what the tree looks like in such a case (source - Techie Delight):\n",
        "\n",
        "<img src=\"https://i.imgur.com/n8ZgBYj.png\" width=\"500\">\n",
        "\n",
        "All the leaf nodes are `(0, 0)`. Can you count the number of leaf nodes?\n",
        "\n",
        "*HINT*: Count the number of unique paths from root to leaf. The length of each path is `m+n` and at each level there are 2 choices. \n",
        "\n",
        "Based on the above can you infer that the time complexity is $O(2^{m+n})$.\n",
        "\n",
        "\n",
        "\n",
        "\n",
        "\n",
        "\n",
        "\n"
      ],
      "id": "Doa_Q3cRlzMJ"
    },
    {
      "cell_type": "markdown",
      "metadata": {
        "id": "eO2Jl5mhlzMK"
      },
      "source": [
        "### Dynamic programming\n",
        "\n",
        "1. Create a table of size `(n1+1) * (n2+1)` initialized with 0s, where `n1` and `n2` are the lengths of the sequences. `table[i][j]` represents the longest common subsequence of `seq1[:i]` and `seq2[:j]`. Here's what the table looks like (source: Kevin Mavani, Medium).\n",
        "\n",
        "\n",
        "<img src=\"https://i.imgur.com/SAsEol6.png\">\n",
        "\n",
        "\n",
        "\n",
        "2. If `seq1[i]` and `seq2[j]` are equal, then `table[i+1][j+1] = 1 + table[i][j]` \n",
        "\n",
        "3. If `seq1[i]` and `seq2[j]` are equal, then `table[i+1][j+1] = max(table[i][j+1], table[i+1][j])`\n",
        "\n",
        "\n",
        "Verify that the complexity of the dynamic programming approach is $O(N1 * N2)$."
      ],
      "id": "eO2Jl5mhlzMK"
    },
    {
      "cell_type": "code",
      "execution_count": 51,
      "metadata": {
        "id": "iHLQHi18lzMK"
      },
      "outputs": [],
      "source": [
        "def lcs_memo(seq1,seq2):\n",
        "  memo={}\n",
        "  def recurse(idx1=0,idx2=0):\n",
        "    key = (idx1,idx2)\n",
        "    if key in memo:\n",
        "      return memo[key]\n",
        "    elif idx1 == len(seq1) or idx2 == len(seq2):\n",
        "      memo[key] = 0\n",
        "    elif seq1[idx1] == seq2[idx2]:\n",
        "      memo[key] = 1 + recurse(idx1+1 , idx2+1)\n",
        "    else:\n",
        "      memo[key] = max(recurse(idx1+1,idx2),recurse(idx1,idx2+1))\n",
        "    return memo[key]\n",
        "  return recurse(0,0)\n"
      ],
      "id": "iHLQHi18lzMK"
    },
    {
      "cell_type": "code",
      "execution_count": 52,
      "id": "06e32b3c",
      "metadata": {
        "colab": {
          "base_uri": "https://localhost:8080/"
        },
        "id": "06e32b3c",
        "outputId": "426b81ca-5d1d-4ac9-8f26-0d76a6b7a931"
      },
      "outputs": [
        {
          "output_type": "stream",
          "name": "stdout",
          "text": [
            "\n",
            "\u001b[1mTEST CASE #0\u001b[0m\n",
            "\n",
            "Input:\n",
            "{'seq1': [1, 3, 5, 6, 7, 2, 5, 2, 3], 'seq2': [6, 2, 4, 7, 1, 5, 6, 2, 3]}\n",
            "\n",
            "Expected Output:\n",
            "5\n",
            "\n",
            "\n",
            "Actual Output:\n",
            "5\n",
            "\n",
            "Execution Time:\n",
            "0.132 ms\n",
            "\n",
            "Test Result:\n",
            "\u001b[92mPASSED\u001b[0m\n",
            "\n",
            "\n",
            "\u001b[1mTEST CASE #1\u001b[0m\n",
            "\n",
            "Input:\n",
            "{'seq1': 'longest', 'seq2': 'stone'}\n",
            "\n",
            "Expected Output:\n",
            "3\n",
            "\n",
            "\n",
            "Actual Output:\n",
            "3\n",
            "\n",
            "Execution Time:\n",
            "0.085 ms\n",
            "\n",
            "Test Result:\n",
            "\u001b[92mPASSED\u001b[0m\n",
            "\n",
            "\n",
            "\u001b[1mTEST CASE #2\u001b[0m\n",
            "\n",
            "Input:\n",
            "{'seq1': 'asdfwevad', 'seq2': 'opkpoiklklj'}\n",
            "\n",
            "Expected Output:\n",
            "0\n",
            "\n",
            "\n",
            "Actual Output:\n",
            "0\n",
            "\n",
            "Execution Time:\n",
            "0.204 ms\n",
            "\n",
            "Test Result:\n",
            "\u001b[92mPASSED\u001b[0m\n",
            "\n",
            "\n",
            "\u001b[1mTEST CASE #3\u001b[0m\n",
            "\n",
            "Input:\n",
            "{'seq1': 'dense', 'seq2': 'condensed'}\n",
            "\n",
            "Expected Output:\n",
            "5\n",
            "\n",
            "\n",
            "Actual Output:\n",
            "5\n",
            "\n",
            "Execution Time:\n",
            "0.08 ms\n",
            "\n",
            "Test Result:\n",
            "\u001b[92mPASSED\u001b[0m\n",
            "\n",
            "\n",
            "\u001b[1mTEST CASE #4\u001b[0m\n",
            "\n",
            "Input:\n",
            "{'seq1': '', 'seq2': 'opkpoiklklj'}\n",
            "\n",
            "Expected Output:\n",
            "0\n",
            "\n",
            "\n",
            "Actual Output:\n",
            "0\n",
            "\n",
            "Execution Time:\n",
            "0.005 ms\n",
            "\n",
            "Test Result:\n",
            "\u001b[92mPASSED\u001b[0m\n",
            "\n",
            "\n",
            "\u001b[1mTEST CASE #5\u001b[0m\n",
            "\n",
            "Input:\n",
            "{'seq1': '', 'seq2': ''}\n",
            "\n",
            "Expected Output:\n",
            "0\n",
            "\n",
            "\n",
            "Actual Output:\n",
            "0\n",
            "\n",
            "Execution Time:\n",
            "0.005 ms\n",
            "\n",
            "Test Result:\n",
            "\u001b[92mPASSED\u001b[0m\n",
            "\n",
            "\n",
            "\u001b[1mTEST CASE #6\u001b[0m\n",
            "\n",
            "Input:\n",
            "{'seq1': 'abcdef', 'seq2': 'badcfe'}\n",
            "\n",
            "Expected Output:\n",
            "3\n",
            "\n",
            "\n",
            "Actual Output:\n",
            "3\n",
            "\n",
            "Execution Time:\n",
            "0.056 ms\n",
            "\n",
            "Test Result:\n",
            "\u001b[92mPASSED\u001b[0m\n",
            "\n",
            "\n",
            "\u001b[1mSUMMARY\u001b[0m\n",
            "\n",
            "TOTAL: 7, \u001b[92mPASSED\u001b[0m: 7, \u001b[91mFAILED\u001b[0m: 0\n"
          ]
        },
        {
          "output_type": "execute_result",
          "data": {
            "text/plain": [
              "[(5, True, 0.132),\n",
              " (3, True, 0.085),\n",
              " (0, True, 0.204),\n",
              " (5, True, 0.08),\n",
              " (0, True, 0.005),\n",
              " (0, True, 0.005),\n",
              " (3, True, 0.056)]"
            ]
          },
          "metadata": {},
          "execution_count": 52
        }
      ],
      "source": [
        "evaluate_test_cases(lcs_memo,lcs_tests)"
      ]
    },
    {
      "cell_type": "code",
      "execution_count": null,
      "id": "03b6ec3d",
      "metadata": {
        "id": "03b6ec3d"
      },
      "outputs": [],
      "source": [
        ""
      ]
    },
    {
      "cell_type": "code",
      "execution_count": null,
      "id": "d9e3b595",
      "metadata": {
        "id": "d9e3b595"
      },
      "outputs": [],
      "source": [
        ""
      ]
    },
    {
      "cell_type": "code",
      "execution_count": 53,
      "id": "92449155",
      "metadata": {
        "colab": {
          "base_uri": "https://localhost:8080/",
          "height": 87
        },
        "id": "92449155",
        "outputId": "8a874b0b-c7d5-4470-b986-c4d63e0ccf7e"
      },
      "outputs": [
        {
          "output_type": "stream",
          "name": "stdout",
          "text": [
            "[jovian] Detected Colab notebook...\u001b[0m\n",
            "[jovian] Uploading colab notebook to Jovian...\u001b[0m\n",
            "Committed successfully! https://jovian.ai/prathamesh-kashelikar/longest-common-subsequence\n"
          ]
        },
        {
          "output_type": "execute_result",
          "data": {
            "text/plain": [
              "'https://jovian.ai/prathamesh-kashelikar/longest-common-subsequence'"
            ],
            "application/vnd.google.colaboratory.intrinsic+json": {
              "type": "string"
            }
          },
          "metadata": {},
          "execution_count": 53
        }
      ],
      "source": [
        "jovian.commit()"
      ]
    },
    {
      "cell_type": "markdown",
      "source": [
        "### Dynamic programming\n",
        "\n",
        "1. Create a table of size `(n1+1) * (n2+1)` initialized with 0s, where `n1` and `n2` are the lengths of the sequences. `table[i][j]` represents the longest common subsequence of `seq1[:i]` and `seq2[:j]`. Here's what the table looks like (source: Kevin Mavani, Medium).\n",
        "\n",
        "\n",
        "<img src=\"https://i.imgur.com/SAsEol6.png\">\n",
        "\n",
        "\n",
        "\n",
        "2. If `seq1[i]` and `seq2[j]` are equal, then `table[i+1][j+1] = 1 + table[i][j]` \n",
        "\n",
        "3. If `seq1[i]` and `seq2[j]` are equal, then `table[i+1][j+1] = max(table[i][j+1], table[i+1][j])`\n",
        "\n",
        "\n",
        "Verify that the complexity of the dynamic programming approach is $O(N1 * N2)$."
      ],
      "metadata": {
        "id": "ejcoul6tJjck"
      },
      "id": "ejcoul6tJjck"
    },
    {
      "cell_type": "code",
      "source": [
        ""
      ],
      "metadata": {
        "id": "M2-G0t8BJnnZ"
      },
      "id": "M2-G0t8BJnnZ",
      "execution_count": null,
      "outputs": []
    },
    {
      "cell_type": "code",
      "source": [
        ""
      ],
      "metadata": {
        "id": "Bvdl2x6lJngB"
      },
      "id": "Bvdl2x6lJngB",
      "execution_count": null,
      "outputs": []
    },
    {
      "cell_type": "code",
      "source": [
        ""
      ],
      "metadata": {
        "id": "LETTQOm2JnIJ"
      },
      "id": "LETTQOm2JnIJ",
      "execution_count": null,
      "outputs": []
    },
    {
      "cell_type": "code",
      "execution_count": 54,
      "id": "19e333b9",
      "metadata": {
        "colab": {
          "base_uri": "https://localhost:8080/",
          "height": 87
        },
        "id": "19e333b9",
        "outputId": "2c87efc6-e8a7-4a87-e9a0-72d65f4a0274"
      },
      "outputs": [
        {
          "output_type": "stream",
          "name": "stdout",
          "text": [
            "[jovian] Detected Colab notebook...\u001b[0m\n",
            "[jovian] Uploading colab notebook to Jovian...\u001b[0m\n",
            "Committed successfully! https://jovian.ai/prathamesh-kashelikar/longest-common-subsequence\n"
          ]
        },
        {
          "output_type": "execute_result",
          "data": {
            "text/plain": [
              "'https://jovian.ai/prathamesh-kashelikar/longest-common-subsequence'"
            ],
            "application/vnd.google.colaboratory.intrinsic+json": {
              "type": "string"
            }
          },
          "metadata": {},
          "execution_count": 54
        }
      ],
      "source": [
        "jovian.commit()"
      ]
    },
    {
      "cell_type": "markdown",
      "id": "8d92e02e",
      "metadata": {
        "id": "8d92e02e"
      },
      "source": [
        "### 7. Come up with a correct solution for the problem. State it in plain English.\n",
        "\n",
        "Come with the optimized correct solution and explain it in simple words below:\n",
        "\n",
        "1. **???**\n",
        "2. **???**\n",
        "3. **???**\n",
        "4. **???**\n",
        "5. **???**\n",
        "\n",
        "(add more steps if required)\n",
        "\n",
        "\n",
        "Let's save and upload our work before continuing.\n",
        "\n"
      ]
    },
    {
      "cell_type": "code",
      "execution_count": 55,
      "id": "fa187444",
      "metadata": {
        "colab": {
          "base_uri": "https://localhost:8080/",
          "height": 87
        },
        "id": "fa187444",
        "outputId": "443962d7-db2c-4d14-b8e0-2dabf302921f"
      },
      "outputs": [
        {
          "output_type": "stream",
          "name": "stdout",
          "text": [
            "[jovian] Detected Colab notebook...\u001b[0m\n",
            "[jovian] Uploading colab notebook to Jovian...\u001b[0m\n",
            "Committed successfully! https://jovian.ai/prathamesh-kashelikar/longest-common-subsequence\n"
          ]
        },
        {
          "output_type": "execute_result",
          "data": {
            "text/plain": [
              "'https://jovian.ai/prathamesh-kashelikar/longest-common-subsequence'"
            ],
            "application/vnd.google.colaboratory.intrinsic+json": {
              "type": "string"
            }
          },
          "metadata": {},
          "execution_count": 55
        }
      ],
      "source": [
        "jovian.commit()"
      ]
    },
    {
      "cell_type": "code",
      "execution_count": null,
      "id": "a5248d18",
      "metadata": {
        "id": "a5248d18"
      },
      "outputs": [],
      "source": [
        ""
      ]
    },
    {
      "cell_type": "code",
      "execution_count": null,
      "id": "c40ec130",
      "metadata": {
        "id": "c40ec130"
      },
      "outputs": [],
      "source": [
        ""
      ]
    },
    {
      "cell_type": "code",
      "execution_count": null,
      "id": "1dc7e0c9",
      "metadata": {
        "id": "1dc7e0c9"
      },
      "outputs": [],
      "source": [
        ""
      ]
    },
    {
      "cell_type": "markdown",
      "id": "32123358",
      "metadata": {
        "id": "32123358"
      },
      "source": [
        "### 8. Implement the solution and test it using example inputs. Fix bugs, if any."
      ]
    },
    {
      "cell_type": "code",
      "source": [
        "n1,n2 = 5,7\n",
        "[[0 for x in range(n2)] for x in range(n1)]"
      ],
      "metadata": {
        "colab": {
          "base_uri": "https://localhost:8080/"
        },
        "id": "4z_8voXYLeJX",
        "outputId": "a4122abc-a363-450c-bf36-a875d82244b7"
      },
      "id": "4z_8voXYLeJX",
      "execution_count": 56,
      "outputs": [
        {
          "output_type": "execute_result",
          "data": {
            "text/plain": [
              "[[0, 0, 0, 0, 0, 0, 0],\n",
              " [0, 0, 0, 0, 0, 0, 0],\n",
              " [0, 0, 0, 0, 0, 0, 0],\n",
              " [0, 0, 0, 0, 0, 0, 0],\n",
              " [0, 0, 0, 0, 0, 0, 0]]"
            ]
          },
          "metadata": {},
          "execution_count": 56
        }
      ]
    },
    {
      "cell_type": "code",
      "execution_count": 62,
      "id": "44f47681",
      "metadata": {
        "id": "44f47681"
      },
      "outputs": [],
      "source": [
        "def lcs_dp(seq1,seq2):\n",
        "  n1,n2 = len(seq1),len(seq2)\n",
        "  table = [[0 for x in range(n2+1)] for x in range(n1+1)]\n",
        "  for idx1 in range(n1):\n",
        "    for idx2 in range(n2):\n",
        "      if seq1[idx1] == seq2[idx2]:\n",
        "        table[idx1+1][idx2+1] = 1 + table[idx1][idx2]\n",
        "      else:\n",
        "        table[idx1+1][idx2+1] = max(table[idx1][idx2+1],table[idx1+1][idx2])\n",
        "  return table[-1][-1]"
      ]
    },
    {
      "cell_type": "code",
      "execution_count": 64,
      "id": "8b77939d",
      "metadata": {
        "colab": {
          "base_uri": "https://localhost:8080/"
        },
        "id": "8b77939d",
        "outputId": "a4866bd5-c3b7-4ddc-c970-b06bf94db56a"
      },
      "outputs": [
        {
          "output_type": "stream",
          "name": "stdout",
          "text": [
            "\n",
            "\u001b[1mTEST CASE #0\u001b[0m\n",
            "\n",
            "Input:\n",
            "{'seq1': [1, 3, 5, 6, 7, 2, 5, 2, 3], 'seq2': [6, 2, 4, 7, 1, 5, 6, 2, 3]}\n",
            "\n",
            "Expected Output:\n",
            "5\n",
            "\n",
            "\n",
            "Actual Output:\n",
            "5\n",
            "\n",
            "Execution Time:\n",
            "0.125 ms\n",
            "\n",
            "Test Result:\n",
            "\u001b[92mPASSED\u001b[0m\n",
            "\n",
            "\n",
            "\u001b[1mTEST CASE #1\u001b[0m\n",
            "\n",
            "Input:\n",
            "{'seq1': 'longest', 'seq2': 'stone'}\n",
            "\n",
            "Expected Output:\n",
            "3\n",
            "\n",
            "\n",
            "Actual Output:\n",
            "3\n",
            "\n",
            "Execution Time:\n",
            "0.049 ms\n",
            "\n",
            "Test Result:\n",
            "\u001b[92mPASSED\u001b[0m\n",
            "\n",
            "\n",
            "\u001b[1mTEST CASE #2\u001b[0m\n",
            "\n",
            "Input:\n",
            "{'seq1': 'asdfwevad', 'seq2': 'opkpoiklklj'}\n",
            "\n",
            "Expected Output:\n",
            "0\n",
            "\n",
            "\n",
            "Actual Output:\n",
            "0\n",
            "\n",
            "Execution Time:\n",
            "0.107 ms\n",
            "\n",
            "Test Result:\n",
            "\u001b[92mPASSED\u001b[0m\n",
            "\n",
            "\n",
            "\u001b[1mTEST CASE #3\u001b[0m\n",
            "\n",
            "Input:\n",
            "{'seq1': 'dense', 'seq2': 'condensed'}\n",
            "\n",
            "Expected Output:\n",
            "5\n",
            "\n",
            "\n",
            "Actual Output:\n",
            "5\n",
            "\n",
            "Execution Time:\n",
            "0.053 ms\n",
            "\n",
            "Test Result:\n",
            "\u001b[92mPASSED\u001b[0m\n",
            "\n",
            "\n",
            "\u001b[1mTEST CASE #4\u001b[0m\n",
            "\n",
            "Input:\n",
            "{'seq1': '', 'seq2': 'opkpoiklklj'}\n",
            "\n",
            "Expected Output:\n",
            "0\n",
            "\n",
            "\n",
            "Actual Output:\n",
            "0\n",
            "\n",
            "Execution Time:\n",
            "0.007 ms\n",
            "\n",
            "Test Result:\n",
            "\u001b[92mPASSED\u001b[0m\n",
            "\n",
            "\n",
            "\u001b[1mTEST CASE #5\u001b[0m\n",
            "\n",
            "Input:\n",
            "{'seq1': '', 'seq2': ''}\n",
            "\n",
            "Expected Output:\n",
            "0\n",
            "\n",
            "\n",
            "Actual Output:\n",
            "0\n",
            "\n",
            "Execution Time:\n",
            "0.006 ms\n",
            "\n",
            "Test Result:\n",
            "\u001b[92mPASSED\u001b[0m\n",
            "\n",
            "\n",
            "\u001b[1mTEST CASE #6\u001b[0m\n",
            "\n",
            "Input:\n",
            "{'seq1': 'abcdef', 'seq2': 'badcfe'}\n",
            "\n",
            "Expected Output:\n",
            "3\n",
            "\n",
            "\n",
            "Actual Output:\n",
            "3\n",
            "\n",
            "Execution Time:\n",
            "0.07 ms\n",
            "\n",
            "Test Result:\n",
            "\u001b[92mPASSED\u001b[0m\n",
            "\n",
            "\n",
            "\u001b[1mSUMMARY\u001b[0m\n",
            "\n",
            "TOTAL: 7, \u001b[92mPASSED\u001b[0m: 7, \u001b[91mFAILED\u001b[0m: 0\n"
          ]
        },
        {
          "output_type": "execute_result",
          "data": {
            "text/plain": [
              "[(5, True, 0.125),\n",
              " (3, True, 0.049),\n",
              " (0, True, 0.107),\n",
              " (5, True, 0.053),\n",
              " (0, True, 0.007),\n",
              " (0, True, 0.006),\n",
              " (3, True, 0.07)]"
            ]
          },
          "metadata": {},
          "execution_count": 64
        }
      ],
      "source": [
        "evaluate_test_cases(lcs_dp,lcs_tests)"
      ]
    },
    {
      "cell_type": "code",
      "execution_count": null,
      "id": "9a77bf9e",
      "metadata": {
        "id": "9a77bf9e"
      },
      "outputs": [],
      "source": [
        ""
      ]
    },
    {
      "cell_type": "code",
      "execution_count": null,
      "id": "3de3f728",
      "metadata": {
        "id": "3de3f728"
      },
      "outputs": [],
      "source": [
        ""
      ]
    },
    {
      "cell_type": "markdown",
      "id": "4c05a85d",
      "metadata": {
        "id": "4c05a85d"
      },
      "source": [
        "### 9. Analyze the algorithm's complexity and identify inefficiencies, if any."
      ]
    },
    {
      "cell_type": "code",
      "execution_count": null,
      "id": "0503cb4a",
      "metadata": {
        "id": "0503cb4a"
      },
      "outputs": [],
      "source": [
        ""
      ]
    },
    {
      "cell_type": "code",
      "execution_count": null,
      "id": "2185aae7",
      "metadata": {
        "id": "2185aae7"
      },
      "outputs": [],
      "source": [
        ""
      ]
    },
    {
      "cell_type": "code",
      "execution_count": null,
      "id": "d170140e",
      "metadata": {
        "id": "d170140e"
      },
      "outputs": [],
      "source": [
        ""
      ]
    },
    {
      "cell_type": "markdown",
      "id": "60d9c093",
      "metadata": {
        "id": "60d9c093"
      },
      "source": [
        "If you found the problem on an external platform, you can make a submission to test your solution.\n",
        "\n",
        "Share your approach and start a discussion on the Jovian forum: https://jovian.ai/forum/c/data-structures-and-algorithms-in-python/78"
      ]
    },
    {
      "cell_type": "code",
      "execution_count": 66,
      "id": "e46c750f",
      "metadata": {
        "colab": {
          "base_uri": "https://localhost:8080/",
          "height": 87
        },
        "id": "e46c750f",
        "outputId": "767195b9-74d4-481e-e1fd-f0d797bebd8a"
      },
      "outputs": [
        {
          "output_type": "stream",
          "name": "stdout",
          "text": [
            "[jovian] Detected Colab notebook...\u001b[0m\n",
            "[jovian] Uploading colab notebook to Jovian...\u001b[0m\n",
            "Committed successfully! https://jovian.ai/prathamesh-kashelikar/longest-common-subsequence\n"
          ]
        },
        {
          "output_type": "execute_result",
          "data": {
            "text/plain": [
              "'https://jovian.ai/prathamesh-kashelikar/longest-common-subsequence'"
            ],
            "application/vnd.google.colaboratory.intrinsic+json": {
              "type": "string"
            }
          },
          "metadata": {},
          "execution_count": 66
        }
      ],
      "source": [
        "jovian.commit()"
      ]
    },
    {
      "cell_type": "code",
      "execution_count": null,
      "id": "7280e4a3",
      "metadata": {
        "id": "7280e4a3"
      },
      "outputs": [],
      "source": [
        ""
      ]
    }
  ],
  "metadata": {
    "kernelspec": {
      "display_name": "Python 3",
      "language": "python",
      "name": "python3"
    },
    "language_info": {
      "codemirror_mode": {
        "name": "ipython",
        "version": 3
      },
      "file_extension": ".py",
      "mimetype": "text/x-python",
      "name": "python",
      "nbconvert_exporter": "python",
      "pygments_lexer": "ipython3",
      "version": "3.8.6"
    },
    "colab": {
      "name": "python-problem-solving-template.ipynb",
      "provenance": [],
      "include_colab_link": true
    }
  },
  "nbformat": 4,
  "nbformat_minor": 5
}