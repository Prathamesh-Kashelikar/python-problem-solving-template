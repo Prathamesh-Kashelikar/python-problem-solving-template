{
  "cells": [
    {
      "cell_type": "markdown",
      "metadata": {
        "id": "view-in-github",
        "colab_type": "text"
      },
      "source": [
        "<a href=\"https://colab.research.google.com/github/Prathamesh-Kashelikar/python-problem-solving-template/blob/main/python_problem_solving_template.ipynb\" target=\"_parent\"><img src=\"https://colab.research.google.com/assets/colab-badge.svg\" alt=\"Open In Colab\"/></a>"
      ]
    },
    {
      "cell_type": "code",
      "execution_count": 67,
      "id": "839187b1",
      "metadata": {
        "id": "839187b1"
      },
      "outputs": [],
      "source": [
        "# Jovian Commit Essentials\n",
        "# Please retain and execute this cell without modifying the contents for `jovian.commit` to work\n",
        "!pip install jovian --upgrade -q\n",
        "import jovian\n",
        "jovian.set_project('python-problem-solving-template')\n",
        "jovian.set_colab_id('1BjYeynZ3719lS60sbbBK97MdCTt01ru0')"
      ]
    },
    {
      "cell_type": "markdown",
      "id": "2435cb8f",
      "metadata": {
        "id": "2435cb8f"
      },
      "source": [
        "## Longest Common Subsequence\n",
        "\n",
        "> **QUESTION 1**: Write a function to find the length of the **longest common subsequence** between two sequences. E.g. Given the strings \"serendipitous\" and \"precipitation\", the longest common subsequence is \"reipito\" and its length is 7.\n",
        ">\n",
        "> A \"sequence\" is a group of items with a deterministic ordering. Lists, tuples and ranges are some common sequence types in Python.\n",
        ">\n",
        "> A \"subsequence\" is a sequence obtained by deleting zero or more elements from another sequence. For example, \"edpt\" is a subsequence of \"serendipitous\".\n",
        "\n",
        "\n",
        "\n",
        "\n",
        "#### General case\n",
        "\n",
        "<img src=\"https://i.imgur.com/ry4Y0wS.png\" width=\"420\">\n",
        "\n",
        "#### Test cases\n",
        "\n",
        "1. General case (string)\n",
        "2. General case (list)\n",
        "3. No common subsequence\n",
        "4. One is a subsequence of the other\n",
        "5. One sequence is empty\n",
        "6. Both sequences are empty\n",
        "7. Multiple subsequences with same length\n",
        "    1. “abcdef” and “badcfe”\n"
      ]
    },
    {
      "cell_type": "markdown",
      "id": "16405efb",
      "metadata": {
        "id": "16405efb"
      },
      "source": [
        "## How to run the code and save your work\n",
        "\n",
        "The recommended way to run this notebook is to click the \"Run\" button at the top of this page, and select \"Run on Binder\". This will run the notebook on [mybinder.org](https://mybinder.org), a free online service for running Jupyter notebooks. \n",
        "\n",
        "This tutorial is an executable [Jupyter notebook](https://jupyter.org). You can _run_ this tutorial and experiment with the code examples in a couple of ways: *using free online resources* (recommended) or *on your computer*.\n",
        "\n",
        "#### Option 1: Running using free online resources (1-click, recommended)\n",
        "\n",
        "The easiest way to start executing the code is to click the **Run** button at the top of this page and select **Run on Binder**. You can also select \"Run on Colab\" or \"Run on Kaggle\", but you'll need to create an account on [Google Colab](https://colab.research.google.com) or [Kaggle](https://kaggle.com) to use these platforms.\n",
        "\n",
        "\n",
        "#### Option 2: Running on your computer locally\n",
        "\n",
        "To run the code on your computer locally, you'll need to set up [Python](https://www.python.org), download the notebook and install the required libraries. We recommend using the [Conda](https://docs.conda.io/projects/conda/en/latest/user-guide/install/) distribution of Python. Click the **Run** button at the top of this page, select the **Run Locally** option, and follow the instructions.\n",
        "\n",
        "#### Saving your work\n",
        "\n",
        "Before staring the assignment, let's save a snapshot of the assignment to your [Jovian](https://jovian.ai) profile, so that you can access it later, and continue your work."
      ]
    },
    {
      "cell_type": "code",
      "execution_count": 68,
      "id": "8a7e29d2",
      "metadata": {
        "id": "8a7e29d2"
      },
      "outputs": [],
      "source": [
        "project_name = 'longest-common-subsequence' # give it an appropriate name"
      ]
    },
    {
      "cell_type": "code",
      "execution_count": 69,
      "id": "9440dd0c",
      "metadata": {
        "id": "9440dd0c"
      },
      "outputs": [],
      "source": [
        "!pip install jovian --upgrade --quiet"
      ]
    },
    {
      "cell_type": "code",
      "execution_count": 70,
      "id": "3ff3f4f5",
      "metadata": {
        "id": "3ff3f4f5"
      },
      "outputs": [],
      "source": [
        "import jovian"
      ]
    },
    {
      "cell_type": "code",
      "execution_count": 71,
      "id": "3a8b58ac",
      "metadata": {
        "colab": {
          "base_uri": "https://localhost:8080/",
          "height": 87
        },
        "id": "3a8b58ac",
        "outputId": "24ef9417-e733-44b4-e22c-cd2ef9596ccf"
      },
      "outputs": [
        {
          "output_type": "stream",
          "name": "stdout",
          "text": [
            "[jovian] Detected Colab notebook...\u001b[0m\n",
            "[jovian] Uploading colab notebook to Jovian...\u001b[0m\n",
            "Committed successfully! https://jovian.ai/prathamesh-kashelikar/longest-common-subsequence\n"
          ]
        },
        {
          "output_type": "execute_result",
          "data": {
            "text/plain": [
              "'https://jovian.ai/prathamesh-kashelikar/longest-common-subsequence'"
            ],
            "application/vnd.google.colaboratory.intrinsic+json": {
              "type": "string"
            }
          },
          "metadata": {},
          "execution_count": 71
        }
      ],
      "source": [
        "jovian.commit(project=project_name)"
      ]
    },
    {
      "cell_type": "markdown",
      "id": "a393afc7",
      "metadata": {
        "id": "a393afc7"
      },
      "source": [
        "\n"
      ]
    },
    {
      "cell_type": "markdown",
      "id": "faf3ce74",
      "metadata": {
        "id": "faf3ce74"
      },
      "source": [
        "## The Method\n",
        "\n",
        "Here's the systematic strategy we'll apply for solving problems:\n",
        "\n",
        "1. State the problem clearly. Identify the input & output formats.\n",
        "2. Come up with some example inputs & outputs. Try to cover all edge cases.\n",
        "3. Come up with a correct solution for the problem. State it in plain English.\n",
        "4. Implement the solution and test it using example inputs. Fix bugs, if any.\n",
        "5. Analyze the algorithm's complexity and identify inefficiencies, if any.\n",
        "6. Apply the right technique to overcome the inefficiency. Repeat steps 3 to 6.\n",
        "\n",
        "This approach is explained in detail in [Lesson 1](https://jovian.ai/learn/data-structures-and-algorithms-in-python/lesson/lesson-1-binary-search-linked-lists-and-complexity) of the course. Let's apply this approach step-by-step."
      ]
    },
    {
      "cell_type": "markdown",
      "id": "3eace7bc",
      "metadata": {
        "id": "3eace7bc"
      },
      "source": [
        "## Solution\n",
        "\n",
        "\n",
        "### 1. State the problem clearly. Identify the input & output formats.\n",
        "\n",
        "While this problem is stated clearly enough, it's always useful to try and express in your own words, in a way that makes it most clear for you. \n",
        "\n",
        "\n",
        "**Problem**\n",
        "\n",
        "> we have given two words , and we need to find longest common subsequence between them\n",
        "\n",
        "<br/>\n",
        "\n",
        "\n",
        "**Input**\n",
        "\n",
        "1. word / seq 1: `serendipitous`\n",
        "2. word2 / seq 2 : `precipitation`\n",
        "\n",
        "(add more if required)\n",
        "\n",
        "\n",
        "**Output**\n",
        "\n",
        "1. length : Length of longest common subsequence e.g. `r,e,i,p,i,t,o` i.e.`7`\n",
        "\n",
        "\n",
        "(add more if required)\n",
        "\n",
        "<br/>\n",
        "\n",
        "Based on the above, we can now create a signature of our function:"
      ]
    },
    {
      "cell_type": "code",
      "execution_count": 72,
      "id": "1b8da724",
      "metadata": {
        "id": "1b8da724"
      },
      "outputs": [],
      "source": [
        "# Create a function signature here. The body of the function can contain a single statement: pass\n",
        "def len_lcs(seq1,seq2):\n",
        "  pass"
      ]
    },
    {
      "cell_type": "markdown",
      "id": "72ba61c3",
      "metadata": {
        "id": "72ba61c3"
      },
      "source": [
        "Save and upload your work before continuing."
      ]
    },
    {
      "cell_type": "code",
      "execution_count": 73,
      "id": "ea4a1c1f",
      "metadata": {
        "id": "ea4a1c1f"
      },
      "outputs": [],
      "source": [
        "import jovian"
      ]
    },
    {
      "cell_type": "code",
      "execution_count": 74,
      "id": "45770742",
      "metadata": {
        "colab": {
          "base_uri": "https://localhost:8080/",
          "height": 87
        },
        "id": "45770742",
        "outputId": "86db103e-b6f6-44e3-c374-fcf67eb71f41"
      },
      "outputs": [
        {
          "output_type": "stream",
          "name": "stdout",
          "text": [
            "[jovian] Detected Colab notebook...\u001b[0m\n",
            "[jovian] Uploading colab notebook to Jovian...\u001b[0m\n",
            "Committed successfully! https://jovian.ai/prathamesh-kashelikar/longest-common-subsequence\n"
          ]
        },
        {
          "output_type": "execute_result",
          "data": {
            "text/plain": [
              "'https://jovian.ai/prathamesh-kashelikar/longest-common-subsequence'"
            ],
            "application/vnd.google.colaboratory.intrinsic+json": {
              "type": "string"
            }
          },
          "metadata": {},
          "execution_count": 74
        }
      ],
      "source": [
        "jovian.commit()"
      ]
    },
    {
      "cell_type": "markdown",
      "id": "974c3c7b",
      "metadata": {
        "id": "974c3c7b"
      },
      "source": [
        "### 2. Come up with some example inputs & outputs. Try to cover all edge cases.\n",
        "\n",
        "Our function should be able to handle any set of valid inputs we pass into it. Here's a list of some possible variations we might encounter:\n",
        "\n",
        "1. no common subsequence\n",
        "2. one is subseq. of other\n",
        "3. one seq is empty\n",
        "4. both seq empty\n",
        "5. multiple subseq. with same length\n",
        "`abcdef` and `badcfe` eg. ace and bdf\n",
        "\n",
        "(add more if required)\n",
        "\n",
        "\n",
        "We'll express our test cases as dictionaries, to test them easily. Each dictionary will contain 2 keys: `input` (a dictionary itself containing one key for each argument to the function and `output` (the expected result from the function). "
      ]
    },
    {
      "cell_type": "code",
      "execution_count": 75,
      "id": "f9f62e0c",
      "metadata": {
        "id": "f9f62e0c"
      },
      "outputs": [],
      "source": [
        "test = {\n",
        "    'input': {\n",
        "        'seq1' : 'serendipitous',\n",
        "        'seq2' : 'precipitation'\n",
        "    },\n",
        "    'output': 7\n",
        "}"
      ]
    },
    {
      "cell_type": "markdown",
      "id": "c19f4eb4",
      "metadata": {
        "id": "c19f4eb4"
      },
      "source": [
        "Create one test case for each of the scenarios listed above. We'll store our test cases in an array called `tests`."
      ]
    },
    {
      "cell_type": "code",
      "execution_count": 76,
      "id": "91655cd8",
      "metadata": {
        "id": "91655cd8"
      },
      "outputs": [],
      "source": [
        "tests = []"
      ]
    },
    {
      "cell_type": "code",
      "execution_count": 77,
      "id": "6f48ad2b",
      "metadata": {
        "id": "6f48ad2b"
      },
      "outputs": [],
      "source": [
        "tests.append(test)"
      ]
    },
    {
      "cell_type": "code",
      "execution_count": 78,
      "id": "26002fa2",
      "metadata": {
        "id": "26002fa2"
      },
      "outputs": [],
      "source": [
        "test1 = {\n",
        "    'input': {\n",
        "        'seq1' : [1,3,5,6,7,2,5,2,3],\n",
        "        'seq2' : [6,2,4,7,1,5,6,2,3]\n",
        "    },\n",
        "    'output': 5\n",
        "}"
      ]
    },
    {
      "cell_type": "code",
      "execution_count": 79,
      "id": "bee2b20a",
      "metadata": {
        "id": "bee2b20a"
      },
      "outputs": [],
      "source": [
        "test2 = {\n",
        "    'input': {\n",
        "        'seq1' : 'longest',\n",
        "        'seq2' : 'stone'\n",
        "    },\n",
        "    'output': 3\n",
        "}"
      ]
    },
    {
      "cell_type": "code",
      "execution_count": 80,
      "id": "a73eff97",
      "metadata": {
        "id": "a73eff97"
      },
      "outputs": [],
      "source": [
        "test3 = {\n",
        "    'input': {\n",
        "        'seq1' : 'asdfwevad',\n",
        "        'seq2' : 'opkpoiklklj'\n",
        "    },\n",
        "    'output': 0\n",
        "}"
      ]
    },
    {
      "cell_type": "code",
      "source": [
        "test4 = {\n",
        "    'input': {\n",
        "        'seq1' : 'dense',\n",
        "        'seq2' : 'condensed'\n",
        "    },\n",
        "    'output': 5\n",
        "}"
      ],
      "metadata": {
        "id": "5Xl8TVgni5mO"
      },
      "id": "5Xl8TVgni5mO",
      "execution_count": 81,
      "outputs": []
    },
    {
      "cell_type": "code",
      "source": [
        "test5 = {\n",
        "    'input': {\n",
        "        'seq1' : '',\n",
        "        'seq2' : 'opkpoiklklj'\n",
        "    },\n",
        "    'output': 0\n",
        "}"
      ],
      "metadata": {
        "id": "uIC5jJCajLsL"
      },
      "id": "uIC5jJCajLsL",
      "execution_count": 82,
      "outputs": []
    },
    {
      "cell_type": "code",
      "source": [
        "test6 = {\n",
        "    'input': {\n",
        "        'seq1' : '',\n",
        "        'seq2' : ''\n",
        "    },\n",
        "    'output': 0\n",
        "}"
      ],
      "metadata": {
        "id": "SIuosvuBjNwo"
      },
      "id": "SIuosvuBjNwo",
      "execution_count": 83,
      "outputs": []
    },
    {
      "cell_type": "code",
      "source": [
        "test7 = {\n",
        "    'input': {\n",
        "        'seq1' : 'abcdef',\n",
        "        'seq2' : 'badcfe'\n",
        "    },\n",
        "    'output': 3\n",
        "}"
      ],
      "metadata": {
        "id": "V6A9IX7kjr3e"
      },
      "id": "V6A9IX7kjr3e",
      "execution_count": 84,
      "outputs": []
    },
    {
      "cell_type": "code",
      "source": [
        "lcs_tests = [test1,test2,test3,test4,test5,test6,test7]"
      ],
      "metadata": {
        "id": "U0v3_Xpbj1Z8"
      },
      "id": "U0v3_Xpbj1Z8",
      "execution_count": 85,
      "outputs": []
    },
    {
      "cell_type": "markdown",
      "id": "29f12418",
      "metadata": {
        "id": "29f12418"
      },
      "source": [
        "#### Recursive Solution\n",
        "\n",
        "\n",
        "1. Create two counters `idx1` and `idx2` starting at 0. Our recursive function will compute the LCS of `seq1[idx1:]` and `seq2[idx2:]`\n",
        "\n",
        "\n",
        "2. If `seq1[idx1]` and `seq2[idx2]` are equal, then this character belongs to the LCS of `seq1[idx1:]` and `seq2[idx2:]` (why?). Further the length this is LCS is one more than LCS of `seq1[idx1+1:]` and  `seq2[idx2+1:]`\n",
        "\n",
        "<img src=\"https://i.imgur.com/um7LDiX.png\" width=\"400\">\n",
        "\n",
        "3. If not, then the LCS of `seq1[idx1:]` and `seq2[idx2:]` is the longer one among the LCS of `seq1[idx1+1:], seq2[idx2:]` and the LCS of `seq1[idx1:]`, `seq2[idx2+1:]`\n",
        "\n",
        "<img src=\"https://i.imgur.com/DRanmOy.png\" width=\"360\">\n",
        "\n",
        "5. If either `seq1[idx1:]` or `seq2[idx2:]` is empty, then their LCS is empty.\n",
        "\n",
        "\n",
        "\n",
        "Here's what the tree of recursive calls looks like:\n",
        "\n",
        "\n",
        "![](https://i.imgur.com/JJrq3KH.png)\n",
        "\n",
        "\n"
      ]
    },
    {
      "cell_type": "code",
      "execution_count": 86,
      "id": "29ab677d",
      "metadata": {
        "colab": {
          "base_uri": "https://localhost:8080/",
          "height": 87
        },
        "id": "29ab677d",
        "outputId": "84844451-f7a7-4c41-8261-373c59dd62ac"
      },
      "outputs": [
        {
          "output_type": "stream",
          "name": "stdout",
          "text": [
            "[jovian] Detected Colab notebook...\u001b[0m\n",
            "[jovian] Uploading colab notebook to Jovian...\u001b[0m\n",
            "Committed successfully! https://jovian.ai/prathamesh-kashelikar/longest-common-subsequence\n"
          ]
        },
        {
          "output_type": "execute_result",
          "data": {
            "text/plain": [
              "'https://jovian.ai/prathamesh-kashelikar/longest-common-subsequence'"
            ],
            "application/vnd.google.colaboratory.intrinsic+json": {
              "type": "string"
            }
          },
          "metadata": {},
          "execution_count": 86
        }
      ],
      "source": [
        "jovian.commit()"
      ]
    },
    {
      "cell_type": "markdown",
      "id": "dd9e28e5",
      "metadata": {
        "id": "dd9e28e5"
      },
      "source": [
        "###  4. Implement the solution and test it using example inputs. Fix bugs, if any."
      ]
    },
    {
      "cell_type": "code",
      "execution_count": 87,
      "id": "d3c89a89",
      "metadata": {
        "id": "d3c89a89"
      },
      "outputs": [],
      "source": [
        "def lcs_recursive(seq1,seq2,idx1=0,idx2=0):\n",
        "  if idx1 == len(seq1) or idx2 == len(seq2):\n",
        "    return 0\n",
        "  elif seq1[idx1]==seq2[idx2]:\n",
        "    return 1 + lcs_recursive(seq1,seq2,idx1+1,idx2+1)\n",
        "  else:\n",
        "    option1 = lcs_recursive(seq1,seq2,idx1+1,idx2)\n",
        "    option2 = lcs_recursive(seq1,seq2,idx1,idx2+1)\n",
        "    return max(option1,option2)"
      ]
    },
    {
      "cell_type": "code",
      "execution_count": 88,
      "id": "ab0f4d08",
      "metadata": {
        "colab": {
          "base_uri": "https://localhost:8080/"
        },
        "id": "ab0f4d08",
        "outputId": "8cc002cc-b54e-4e9c-c5ae-c8829b2e068e"
      },
      "outputs": [
        {
          "output_type": "stream",
          "name": "stdout",
          "text": [
            "CPU times: user 465 ms, sys: 0 ns, total: 465 ms\n",
            "Wall time: 468 ms\n"
          ]
        },
        {
          "output_type": "execute_result",
          "data": {
            "text/plain": [
              "True"
            ]
          },
          "metadata": {},
          "execution_count": 88
        }
      ],
      "source": [
        "%%time\n",
        "lcs_recursive(test['input']['seq1'],test['input']['seq2']) == test['output']"
      ]
    },
    {
      "cell_type": "code",
      "execution_count": 89,
      "id": "1da0a38e",
      "metadata": {
        "colab": {
          "base_uri": "https://localhost:8080/"
        },
        "id": "1da0a38e",
        "outputId": "2e4ec6a3-e7d7-4084-bcf7-514f1b1a7e31"
      },
      "outputs": [
        {
          "output_type": "stream",
          "name": "stdout",
          "text": [
            "CPU times: user 477 ms, sys: 0 ns, total: 477 ms\n",
            "Wall time: 479 ms\n"
          ]
        },
        {
          "output_type": "execute_result",
          "data": {
            "text/plain": [
              "True"
            ]
          },
          "metadata": {},
          "execution_count": 89
        }
      ],
      "source": [
        "%%time\n",
        "lcs_recursive(**test['input']) == test['output']"
      ]
    },
    {
      "cell_type": "code",
      "execution_count": null,
      "id": "2df80de0",
      "metadata": {
        "id": "2df80de0"
      },
      "outputs": [],
      "source": [
        ""
      ]
    },
    {
      "cell_type": "markdown",
      "id": "5194b972",
      "metadata": {
        "id": "5194b972"
      },
      "source": [
        "We can test the function by passing the input to it directly or by using the `evaluate_test_case` function from `jovian`."
      ]
    },
    {
      "cell_type": "code",
      "execution_count": 90,
      "id": "73f88202",
      "metadata": {
        "id": "73f88202"
      },
      "outputs": [],
      "source": [
        "from jovian.pythondsa import evaluate_test_cases"
      ]
    },
    {
      "cell_type": "code",
      "execution_count": 91,
      "id": "6517eb13",
      "metadata": {
        "colab": {
          "base_uri": "https://localhost:8080/"
        },
        "id": "6517eb13",
        "outputId": "2ec69d9a-b4b4-4566-9b16-b45a26285bda"
      },
      "outputs": [
        {
          "output_type": "stream",
          "name": "stdout",
          "text": [
            "\n",
            "\u001b[1mTEST CASE #0\u001b[0m\n",
            "\n",
            "Input:\n",
            "{'seq1': [1, 3, 5, 6, 7, 2, 5, 2, 3], 'seq2': [6, 2, 4, 7, 1, 5, 6, 2, 3]}\n",
            "\n",
            "Expected Output:\n",
            "5\n",
            "\n",
            "\n",
            "Actual Output:\n",
            "5\n",
            "\n",
            "Execution Time:\n",
            "8.499 ms\n",
            "\n",
            "Test Result:\n",
            "\u001b[92mPASSED\u001b[0m\n",
            "\n",
            "\n",
            "\u001b[1mTEST CASE #1\u001b[0m\n",
            "\n",
            "Input:\n",
            "{'seq1': 'longest', 'seq2': 'stone'}\n",
            "\n",
            "Expected Output:\n",
            "3\n",
            "\n",
            "\n",
            "Actual Output:\n",
            "3\n",
            "\n",
            "Execution Time:\n",
            "0.404 ms\n",
            "\n",
            "Test Result:\n",
            "\u001b[92mPASSED\u001b[0m\n",
            "\n",
            "\n",
            "\u001b[1mTEST CASE #2\u001b[0m\n",
            "\n",
            "Input:\n",
            "{'seq1': 'asdfwevad', 'seq2': 'opkpoiklklj'}\n",
            "\n",
            "Expected Output:\n",
            "0\n",
            "\n",
            "\n",
            "Actual Output:\n",
            "0\n",
            "\n",
            "Execution Time:\n",
            "163.15 ms\n",
            "\n",
            "Test Result:\n",
            "\u001b[92mPASSED\u001b[0m\n",
            "\n",
            "\n",
            "\u001b[1mTEST CASE #3\u001b[0m\n",
            "\n",
            "Input:\n",
            "{'seq1': 'dense', 'seq2': 'condensed'}\n",
            "\n",
            "Expected Output:\n",
            "5\n",
            "\n",
            "\n",
            "Actual Output:\n",
            "5\n",
            "\n",
            "Execution Time:\n",
            "0.193 ms\n",
            "\n",
            "Test Result:\n",
            "\u001b[92mPASSED\u001b[0m\n",
            "\n",
            "\n",
            "\u001b[1mTEST CASE #4\u001b[0m\n",
            "\n",
            "Input:\n",
            "{'seq1': '', 'seq2': 'opkpoiklklj'}\n",
            "\n",
            "Expected Output:\n",
            "0\n",
            "\n",
            "\n",
            "Actual Output:\n",
            "0\n",
            "\n",
            "Execution Time:\n",
            "0.003 ms\n",
            "\n",
            "Test Result:\n",
            "\u001b[92mPASSED\u001b[0m\n",
            "\n",
            "\n",
            "\u001b[1mTEST CASE #5\u001b[0m\n",
            "\n",
            "Input:\n",
            "{'seq1': '', 'seq2': ''}\n",
            "\n",
            "Expected Output:\n",
            "0\n",
            "\n",
            "\n",
            "Actual Output:\n",
            "0\n",
            "\n",
            "Execution Time:\n",
            "0.004 ms\n",
            "\n",
            "Test Result:\n",
            "\u001b[92mPASSED\u001b[0m\n",
            "\n",
            "\n",
            "\u001b[1mTEST CASE #6\u001b[0m\n",
            "\n",
            "Input:\n",
            "{'seq1': 'abcdef', 'seq2': 'badcfe'}\n",
            "\n",
            "Expected Output:\n",
            "3\n",
            "\n",
            "\n",
            "Actual Output:\n",
            "3\n",
            "\n",
            "Execution Time:\n",
            "0.091 ms\n",
            "\n",
            "Test Result:\n",
            "\u001b[92mPASSED\u001b[0m\n",
            "\n",
            "\n",
            "\u001b[1mSUMMARY\u001b[0m\n",
            "\n",
            "TOTAL: 7, \u001b[92mPASSED\u001b[0m: 7, \u001b[91mFAILED\u001b[0m: 0\n"
          ]
        },
        {
          "output_type": "execute_result",
          "data": {
            "text/plain": [
              "[(5, True, 8.499),\n",
              " (3, True, 0.404),\n",
              " (0, True, 163.15),\n",
              " (5, True, 0.193),\n",
              " (0, True, 0.003),\n",
              " (0, True, 0.004),\n",
              " (3, True, 0.091)]"
            ]
          },
          "metadata": {},
          "execution_count": 91
        }
      ],
      "source": [
        "evaluate_test_cases(lcs_recursive,lcs_tests)"
      ]
    },
    {
      "cell_type": "markdown",
      "id": "6794552f",
      "metadata": {
        "id": "6794552f"
      },
      "source": [
        "Evaluate your function against all the test cases together using the `evaluate_test_cases` (plural) function from `jovian`."
      ]
    },
    {
      "cell_type": "code",
      "execution_count": 92,
      "id": "c2b0144f",
      "metadata": {
        "id": "c2b0144f"
      },
      "outputs": [],
      "source": [
        "from jovian.pythondsa import evaluate_test_cases"
      ]
    },
    {
      "cell_type": "code",
      "execution_count": 93,
      "id": "df1b097c",
      "metadata": {
        "colab": {
          "base_uri": "https://localhost:8080/"
        },
        "id": "df1b097c",
        "outputId": "fec38a39-3783-4ca6-af29-a3419fefa94f"
      },
      "outputs": [
        {
          "output_type": "stream",
          "name": "stdout",
          "text": [
            "\n",
            "\u001b[1mTEST CASE #0\u001b[0m\n",
            "\n",
            "Input:\n",
            "{'seq1': [1, 3, 5, 6, 7, 2, 5, 2, 3], 'seq2': [6, 2, 4, 7, 1, 5, 6, 2, 3]}\n",
            "\n",
            "Expected Output:\n",
            "5\n",
            "\n",
            "\n",
            "Actual Output:\n",
            "5\n",
            "\n",
            "Execution Time:\n",
            "9.507 ms\n",
            "\n",
            "Test Result:\n",
            "\u001b[92mPASSED\u001b[0m\n",
            "\n",
            "\n",
            "\u001b[1mTEST CASE #1\u001b[0m\n",
            "\n",
            "Input:\n",
            "{'seq1': 'longest', 'seq2': 'stone'}\n",
            "\n",
            "Expected Output:\n",
            "3\n",
            "\n",
            "\n",
            "Actual Output:\n",
            "3\n",
            "\n",
            "Execution Time:\n",
            "0.319 ms\n",
            "\n",
            "Test Result:\n",
            "\u001b[92mPASSED\u001b[0m\n",
            "\n",
            "\n",
            "\u001b[1mTEST CASE #2\u001b[0m\n",
            "\n",
            "Input:\n",
            "{'seq1': 'asdfwevad', 'seq2': 'opkpoiklklj'}\n",
            "\n",
            "Expected Output:\n",
            "0\n",
            "\n",
            "\n",
            "Actual Output:\n",
            "0\n",
            "\n",
            "Execution Time:\n",
            "143.529 ms\n",
            "\n",
            "Test Result:\n",
            "\u001b[92mPASSED\u001b[0m\n",
            "\n",
            "\n",
            "\u001b[1mTEST CASE #3\u001b[0m\n",
            "\n",
            "Input:\n",
            "{'seq1': 'dense', 'seq2': 'condensed'}\n",
            "\n",
            "Expected Output:\n",
            "5\n",
            "\n",
            "\n",
            "Actual Output:\n",
            "5\n",
            "\n",
            "Execution Time:\n",
            "0.184 ms\n",
            "\n",
            "Test Result:\n",
            "\u001b[92mPASSED\u001b[0m\n",
            "\n",
            "\n",
            "\u001b[1mTEST CASE #4\u001b[0m\n",
            "\n",
            "Input:\n",
            "{'seq1': '', 'seq2': 'opkpoiklklj'}\n",
            "\n",
            "Expected Output:\n",
            "0\n",
            "\n",
            "\n",
            "Actual Output:\n",
            "0\n",
            "\n",
            "Execution Time:\n",
            "0.002 ms\n",
            "\n",
            "Test Result:\n",
            "\u001b[92mPASSED\u001b[0m\n",
            "\n",
            "\n",
            "\u001b[1mTEST CASE #5\u001b[0m\n",
            "\n",
            "Input:\n",
            "{'seq1': '', 'seq2': ''}\n",
            "\n",
            "Expected Output:\n",
            "0\n",
            "\n",
            "\n",
            "Actual Output:\n",
            "0\n",
            "\n",
            "Execution Time:\n",
            "0.002 ms\n",
            "\n",
            "Test Result:\n",
            "\u001b[92mPASSED\u001b[0m\n",
            "\n",
            "\n",
            "\u001b[1mTEST CASE #6\u001b[0m\n",
            "\n",
            "Input:\n",
            "{'seq1': 'abcdef', 'seq2': 'badcfe'}\n",
            "\n",
            "Expected Output:\n",
            "3\n",
            "\n",
            "\n",
            "Actual Output:\n",
            "3\n",
            "\n",
            "Execution Time:\n",
            "0.08 ms\n",
            "\n",
            "Test Result:\n",
            "\u001b[92mPASSED\u001b[0m\n",
            "\n",
            "\n",
            "\u001b[1mSUMMARY\u001b[0m\n",
            "\n",
            "TOTAL: 7, \u001b[92mPASSED\u001b[0m: 7, \u001b[91mFAILED\u001b[0m: 0\n"
          ]
        },
        {
          "output_type": "execute_result",
          "data": {
            "text/plain": [
              "[(5, True, 9.507),\n",
              " (3, True, 0.319),\n",
              " (0, True, 143.529),\n",
              " (5, True, 0.184),\n",
              " (0, True, 0.002),\n",
              " (0, True, 0.002),\n",
              " (3, True, 0.08)]"
            ]
          },
          "metadata": {},
          "execution_count": 93
        }
      ],
      "source": [
        "evaluate_test_cases(lcs_recursive,lcs_tests)"
      ]
    },
    {
      "cell_type": "markdown",
      "id": "37a5c8b3",
      "metadata": {
        "id": "37a5c8b3"
      },
      "source": [
        "Verify that all the test cases were evaluated. We expect them all to fail, since we haven't implemented the function yet.\n",
        "\n",
        "Let's save our work before continuing."
      ]
    },
    {
      "cell_type": "code",
      "execution_count": 94,
      "id": "3893a984",
      "metadata": {
        "colab": {
          "base_uri": "https://localhost:8080/",
          "height": 87
        },
        "id": "3893a984",
        "outputId": "6fe51da1-0e34-493b-bf02-010d9ba4e9d4"
      },
      "outputs": [
        {
          "output_type": "stream",
          "name": "stdout",
          "text": [
            "[jovian] Detected Colab notebook...\u001b[0m\n",
            "[jovian] Uploading colab notebook to Jovian...\u001b[0m\n",
            "Committed successfully! https://jovian.ai/prathamesh-kashelikar/longest-common-subsequence\n"
          ]
        },
        {
          "output_type": "execute_result",
          "data": {
            "text/plain": [
              "'https://jovian.ai/prathamesh-kashelikar/longest-common-subsequence'"
            ],
            "application/vnd.google.colaboratory.intrinsic+json": {
              "type": "string"
            }
          },
          "metadata": {},
          "execution_count": 94
        }
      ],
      "source": [
        "jovian.commit()"
      ]
    },
    {
      "cell_type": "code",
      "execution_count": null,
      "id": "6e6fc0a8",
      "metadata": {
        "id": "6e6fc0a8"
      },
      "outputs": [],
      "source": [
        ""
      ]
    },
    {
      "cell_type": "markdown",
      "id": "049abd00",
      "metadata": {
        "id": "049abd00"
      },
      "source": [
        "### 5. Analyze the algorithm's complexity and identify inefficiencies, if any.\n",
        "\n"
      ]
    },
    {
      "cell_type": "markdown",
      "metadata": {
        "id": "Doa_Q3cRlzMJ"
      },
      "source": [
        "#### Complexity Analysis\n",
        "\n",
        "Worst case occurs when each time we have to try 2 subproblems i.e. when the sequences have no common elements.\n",
        "\n",
        "<img src=\"https://i.imgur.com/z5m36m8.png\" width=\"360\">\n",
        "\n",
        "Here's what the tree looks like in such a case (source - Techie Delight):\n",
        "\n",
        "<img src=\"https://i.imgur.com/n8ZgBYj.png\" width=\"500\">\n",
        "\n",
        "All the leaf nodes are `(0, 0)`. Can you count the number of leaf nodes?\n",
        "\n",
        "*HINT*: Count the number of unique paths from root to leaf. The length of each path is `m+n` and at each level there are 2 choices. \n",
        "\n",
        "Based on the above can you infer that the time complexity is $O(2^{m+n})$.\n",
        "\n",
        "\n",
        "\n",
        "\n",
        "\n",
        "\n",
        "\n"
      ],
      "id": "Doa_Q3cRlzMJ"
    },
    {
      "cell_type": "markdown",
      "metadata": {
        "id": "eO2Jl5mhlzMK"
      },
      "source": [
        "### Dynamic programming\n",
        "\n",
        "1. Create a table of size `(n1+1) * (n2+1)` initialized with 0s, where `n1` and `n2` are the lengths of the sequences. `table[i][j]` represents the longest common subsequence of `seq1[:i]` and `seq2[:j]`. Here's what the table looks like (source: Kevin Mavani, Medium).\n",
        "\n",
        "\n",
        "<img src=\"https://i.imgur.com/SAsEol6.png\">\n",
        "\n",
        "\n",
        "\n",
        "2. If `seq1[i]` and `seq2[j]` are equal, then `table[i+1][j+1] = 1 + table[i][j]` \n",
        "\n",
        "3. If `seq1[i]` and `seq2[j]` are equal, then `table[i+1][j+1] = max(table[i][j+1], table[i+1][j])`\n",
        "\n",
        "\n",
        "Verify that the complexity of the dynamic programming approach is $O(N1 * N2)$."
      ],
      "id": "eO2Jl5mhlzMK"
    },
    {
      "cell_type": "code",
      "execution_count": 95,
      "metadata": {
        "id": "iHLQHi18lzMK"
      },
      "outputs": [],
      "source": [
        "def lcs_memo(seq1,seq2):\n",
        "  memo={}\n",
        "  def recurse(idx1=0,idx2=0):\n",
        "    key = (idx1,idx2)\n",
        "    if key in memo:\n",
        "      return memo[key]\n",
        "    elif idx1 == len(seq1) or idx2 == len(seq2):\n",
        "      memo[key] = 0\n",
        "    elif seq1[idx1] == seq2[idx2]:\n",
        "      memo[key] = 1 + recurse(idx1+1 , idx2+1)\n",
        "    else:\n",
        "      memo[key] = max(recurse(idx1+1,idx2),recurse(idx1,idx2+1))\n",
        "    return memo[key]\n",
        "  return recurse(0,0)\n"
      ],
      "id": "iHLQHi18lzMK"
    },
    {
      "cell_type": "code",
      "execution_count": 96,
      "id": "06e32b3c",
      "metadata": {
        "colab": {
          "base_uri": "https://localhost:8080/"
        },
        "id": "06e32b3c",
        "outputId": "b5c21852-8bc3-460a-dc6c-ea6a6fc03647"
      },
      "outputs": [
        {
          "output_type": "stream",
          "name": "stdout",
          "text": [
            "\n",
            "\u001b[1mTEST CASE #0\u001b[0m\n",
            "\n",
            "Input:\n",
            "{'seq1': [1, 3, 5, 6, 7, 2, 5, 2, 3], 'seq2': [6, 2, 4, 7, 1, 5, 6, 2, 3]}\n",
            "\n",
            "Expected Output:\n",
            "5\n",
            "\n",
            "\n",
            "Actual Output:\n",
            "5\n",
            "\n",
            "Execution Time:\n",
            "0.119 ms\n",
            "\n",
            "Test Result:\n",
            "\u001b[92mPASSED\u001b[0m\n",
            "\n",
            "\n",
            "\u001b[1mTEST CASE #1\u001b[0m\n",
            "\n",
            "Input:\n",
            "{'seq1': 'longest', 'seq2': 'stone'}\n",
            "\n",
            "Expected Output:\n",
            "3\n",
            "\n",
            "\n",
            "Actual Output:\n",
            "3\n",
            "\n",
            "Execution Time:\n",
            "0.047 ms\n",
            "\n",
            "Test Result:\n",
            "\u001b[92mPASSED\u001b[0m\n",
            "\n",
            "\n",
            "\u001b[1mTEST CASE #2\u001b[0m\n",
            "\n",
            "Input:\n",
            "{'seq1': 'asdfwevad', 'seq2': 'opkpoiklklj'}\n",
            "\n",
            "Expected Output:\n",
            "0\n",
            "\n",
            "\n",
            "Actual Output:\n",
            "0\n",
            "\n",
            "Execution Time:\n",
            "0.224 ms\n",
            "\n",
            "Test Result:\n",
            "\u001b[92mPASSED\u001b[0m\n",
            "\n",
            "\n",
            "\u001b[1mTEST CASE #3\u001b[0m\n",
            "\n",
            "Input:\n",
            "{'seq1': 'dense', 'seq2': 'condensed'}\n",
            "\n",
            "Expected Output:\n",
            "5\n",
            "\n",
            "\n",
            "Actual Output:\n",
            "5\n",
            "\n",
            "Execution Time:\n",
            "0.064 ms\n",
            "\n",
            "Test Result:\n",
            "\u001b[92mPASSED\u001b[0m\n",
            "\n",
            "\n",
            "\u001b[1mTEST CASE #4\u001b[0m\n",
            "\n",
            "Input:\n",
            "{'seq1': '', 'seq2': 'opkpoiklklj'}\n",
            "\n",
            "Expected Output:\n",
            "0\n",
            "\n",
            "\n",
            "Actual Output:\n",
            "0\n",
            "\n",
            "Execution Time:\n",
            "0.006 ms\n",
            "\n",
            "Test Result:\n",
            "\u001b[92mPASSED\u001b[0m\n",
            "\n",
            "\n",
            "\u001b[1mTEST CASE #5\u001b[0m\n",
            "\n",
            "Input:\n",
            "{'seq1': '', 'seq2': ''}\n",
            "\n",
            "Expected Output:\n",
            "0\n",
            "\n",
            "\n",
            "Actual Output:\n",
            "0\n",
            "\n",
            "Execution Time:\n",
            "0.005 ms\n",
            "\n",
            "Test Result:\n",
            "\u001b[92mPASSED\u001b[0m\n",
            "\n",
            "\n",
            "\u001b[1mTEST CASE #6\u001b[0m\n",
            "\n",
            "Input:\n",
            "{'seq1': 'abcdef', 'seq2': 'badcfe'}\n",
            "\n",
            "Expected Output:\n",
            "3\n",
            "\n",
            "\n",
            "Actual Output:\n",
            "3\n",
            "\n",
            "Execution Time:\n",
            "0.05 ms\n",
            "\n",
            "Test Result:\n",
            "\u001b[92mPASSED\u001b[0m\n",
            "\n",
            "\n",
            "\u001b[1mSUMMARY\u001b[0m\n",
            "\n",
            "TOTAL: 7, \u001b[92mPASSED\u001b[0m: 7, \u001b[91mFAILED\u001b[0m: 0\n"
          ]
        },
        {
          "output_type": "execute_result",
          "data": {
            "text/plain": [
              "[(5, True, 0.119),\n",
              " (3, True, 0.047),\n",
              " (0, True, 0.224),\n",
              " (5, True, 0.064),\n",
              " (0, True, 0.006),\n",
              " (0, True, 0.005),\n",
              " (3, True, 0.05)]"
            ]
          },
          "metadata": {},
          "execution_count": 96
        }
      ],
      "source": [
        "evaluate_test_cases(lcs_memo,lcs_tests)"
      ]
    },
    {
      "cell_type": "code",
      "execution_count": null,
      "id": "03b6ec3d",
      "metadata": {
        "id": "03b6ec3d"
      },
      "outputs": [],
      "source": [
        ""
      ]
    },
    {
      "cell_type": "code",
      "execution_count": null,
      "id": "d9e3b595",
      "metadata": {
        "id": "d9e3b595"
      },
      "outputs": [],
      "source": [
        ""
      ]
    },
    {
      "cell_type": "code",
      "execution_count": 97,
      "id": "92449155",
      "metadata": {
        "colab": {
          "base_uri": "https://localhost:8080/",
          "height": 87
        },
        "id": "92449155",
        "outputId": "ed078f0c-55d2-4799-f317-5b5996e0975d"
      },
      "outputs": [
        {
          "output_type": "stream",
          "name": "stdout",
          "text": [
            "[jovian] Detected Colab notebook...\u001b[0m\n",
            "[jovian] Uploading colab notebook to Jovian...\u001b[0m\n",
            "Committed successfully! https://jovian.ai/prathamesh-kashelikar/longest-common-subsequence\n"
          ]
        },
        {
          "output_type": "execute_result",
          "data": {
            "text/plain": [
              "'https://jovian.ai/prathamesh-kashelikar/longest-common-subsequence'"
            ],
            "application/vnd.google.colaboratory.intrinsic+json": {
              "type": "string"
            }
          },
          "metadata": {},
          "execution_count": 97
        }
      ],
      "source": [
        "jovian.commit()"
      ]
    },
    {
      "cell_type": "markdown",
      "source": [
        "### Dynamic programming\n",
        "\n",
        "1. Create a table of size `(n1+1) * (n2+1)` initialized with 0s, where `n1` and `n2` are the lengths of the sequences. `table[i][j]` represents the longest common subsequence of `seq1[:i]` and `seq2[:j]`. Here's what the table looks like (source: Kevin Mavani, Medium).\n",
        "\n",
        "\n",
        "<img src=\"https://i.imgur.com/SAsEol6.png\">\n",
        "\n",
        "\n",
        "\n",
        "2. If `seq1[i]` and `seq2[j]` are equal, then `table[i+1][j+1] = 1 + table[i][j]` \n",
        "\n",
        "3. If `seq1[i]` and `seq2[j]` are equal, then `table[i+1][j+1] = max(table[i][j+1], table[i+1][j])`\n",
        "\n",
        "\n",
        "Verify that the complexity of the dynamic programming approach is $O(N1 * N2)$."
      ],
      "metadata": {
        "id": "ejcoul6tJjck"
      },
      "id": "ejcoul6tJjck"
    },
    {
      "cell_type": "code",
      "source": [
        ""
      ],
      "metadata": {
        "id": "M2-G0t8BJnnZ"
      },
      "id": "M2-G0t8BJnnZ",
      "execution_count": null,
      "outputs": []
    },
    {
      "cell_type": "code",
      "source": [
        ""
      ],
      "metadata": {
        "id": "Bvdl2x6lJngB"
      },
      "id": "Bvdl2x6lJngB",
      "execution_count": null,
      "outputs": []
    },
    {
      "cell_type": "code",
      "source": [
        ""
      ],
      "metadata": {
        "id": "LETTQOm2JnIJ"
      },
      "id": "LETTQOm2JnIJ",
      "execution_count": null,
      "outputs": []
    },
    {
      "cell_type": "code",
      "execution_count": 98,
      "id": "19e333b9",
      "metadata": {
        "colab": {
          "base_uri": "https://localhost:8080/",
          "height": 87
        },
        "id": "19e333b9",
        "outputId": "ef1bd62e-2add-405c-e4e7-7afcd49ed60f"
      },
      "outputs": [
        {
          "output_type": "stream",
          "name": "stdout",
          "text": [
            "[jovian] Detected Colab notebook...\u001b[0m\n",
            "[jovian] Uploading colab notebook to Jovian...\u001b[0m\n",
            "Committed successfully! https://jovian.ai/prathamesh-kashelikar/longest-common-subsequence\n"
          ]
        },
        {
          "output_type": "execute_result",
          "data": {
            "text/plain": [
              "'https://jovian.ai/prathamesh-kashelikar/longest-common-subsequence'"
            ],
            "application/vnd.google.colaboratory.intrinsic+json": {
              "type": "string"
            }
          },
          "metadata": {},
          "execution_count": 98
        }
      ],
      "source": [
        "jovian.commit()"
      ]
    },
    {
      "cell_type": "markdown",
      "id": "8d92e02e",
      "metadata": {
        "id": "8d92e02e"
      },
      "source": [
        "### 7. Come up with a correct solution for the problem. State it in plain English.\n",
        "\n",
        "Come with the optimized correct solution and explain it in simple words below:\n",
        "\n",
        "1. **???**\n",
        "2. **???**\n",
        "3. **???**\n",
        "4. **???**\n",
        "5. **???**\n",
        "\n",
        "(add more steps if required)\n",
        "\n",
        "\n",
        "Let's save and upload our work before continuing.\n",
        "\n"
      ]
    },
    {
      "cell_type": "code",
      "execution_count": 99,
      "id": "fa187444",
      "metadata": {
        "colab": {
          "base_uri": "https://localhost:8080/",
          "height": 87
        },
        "id": "fa187444",
        "outputId": "92282a1b-3e42-4d8a-9c9c-00f4e5718ae3"
      },
      "outputs": [
        {
          "output_type": "stream",
          "name": "stdout",
          "text": [
            "[jovian] Detected Colab notebook...\u001b[0m\n",
            "[jovian] Uploading colab notebook to Jovian...\u001b[0m\n",
            "Committed successfully! https://jovian.ai/prathamesh-kashelikar/longest-common-subsequence\n"
          ]
        },
        {
          "output_type": "execute_result",
          "data": {
            "text/plain": [
              "'https://jovian.ai/prathamesh-kashelikar/longest-common-subsequence'"
            ],
            "application/vnd.google.colaboratory.intrinsic+json": {
              "type": "string"
            }
          },
          "metadata": {},
          "execution_count": 99
        }
      ],
      "source": [
        "jovian.commit()"
      ]
    },
    {
      "cell_type": "code",
      "execution_count": null,
      "id": "a5248d18",
      "metadata": {
        "id": "a5248d18"
      },
      "outputs": [],
      "source": [
        ""
      ]
    },
    {
      "cell_type": "code",
      "execution_count": null,
      "id": "c40ec130",
      "metadata": {
        "id": "c40ec130"
      },
      "outputs": [],
      "source": [
        ""
      ]
    },
    {
      "cell_type": "code",
      "execution_count": null,
      "id": "1dc7e0c9",
      "metadata": {
        "id": "1dc7e0c9"
      },
      "outputs": [],
      "source": [
        ""
      ]
    },
    {
      "cell_type": "markdown",
      "id": "32123358",
      "metadata": {
        "id": "32123358"
      },
      "source": [
        "### 8. Implement the solution and test it using example inputs. Fix bugs, if any."
      ]
    },
    {
      "cell_type": "code",
      "source": [
        "n1,n2 = 5,7\n",
        "[[0 for x in range(n2)] for x in range(n1)]"
      ],
      "metadata": {
        "colab": {
          "base_uri": "https://localhost:8080/"
        },
        "id": "4z_8voXYLeJX",
        "outputId": "445700ac-fa1d-4e7d-acb2-0fd29cf12d3f"
      },
      "id": "4z_8voXYLeJX",
      "execution_count": 101,
      "outputs": [
        {
          "output_type": "execute_result",
          "data": {
            "text/plain": [
              "[[0, 0, 0, 0, 0, 0, 0],\n",
              " [0, 0, 0, 0, 0, 0, 0],\n",
              " [0, 0, 0, 0, 0, 0, 0],\n",
              " [0, 0, 0, 0, 0, 0, 0],\n",
              " [0, 0, 0, 0, 0, 0, 0]]"
            ]
          },
          "metadata": {},
          "execution_count": 101
        }
      ]
    },
    {
      "cell_type": "code",
      "execution_count": 102,
      "id": "44f47681",
      "metadata": {
        "id": "44f47681"
      },
      "outputs": [],
      "source": [
        "def lcs_dp(seq1,seq2):\n",
        "  n1,n2 = len(seq1),len(seq2)\n",
        "  table = [[0 for x in range(n2+1)] for x in range(n1+1)]\n",
        "  for idx1 in range(n1):\n",
        "    for idx2 in range(n2):\n",
        "      if seq1[idx1] == seq2[idx2]:\n",
        "        table[idx1+1][idx2+1] = 1 + table[idx1][idx2]\n",
        "      else:\n",
        "        table[idx1+1][idx2+1] = max(table[idx1][idx2+1],table[idx1+1][idx2])\n",
        "  return table[-1][-1]"
      ]
    },
    {
      "cell_type": "code",
      "execution_count": 103,
      "id": "8b77939d",
      "metadata": {
        "colab": {
          "base_uri": "https://localhost:8080/"
        },
        "id": "8b77939d",
        "outputId": "b3d3e770-c8dc-42d2-f866-6975b8aad7d5"
      },
      "outputs": [
        {
          "output_type": "stream",
          "name": "stdout",
          "text": [
            "\n",
            "\u001b[1mTEST CASE #0\u001b[0m\n",
            "\n",
            "Input:\n",
            "{'seq1': [1, 3, 5, 6, 7, 2, 5, 2, 3], 'seq2': [6, 2, 4, 7, 1, 5, 6, 2, 3]}\n",
            "\n",
            "Expected Output:\n",
            "5\n",
            "\n",
            "\n",
            "Actual Output:\n",
            "5\n",
            "\n",
            "Execution Time:\n",
            "0.1 ms\n",
            "\n",
            "Test Result:\n",
            "\u001b[92mPASSED\u001b[0m\n",
            "\n",
            "\n",
            "\u001b[1mTEST CASE #1\u001b[0m\n",
            "\n",
            "Input:\n",
            "{'seq1': 'longest', 'seq2': 'stone'}\n",
            "\n",
            "Expected Output:\n",
            "3\n",
            "\n",
            "\n",
            "Actual Output:\n",
            "3\n",
            "\n",
            "Execution Time:\n",
            "0.051 ms\n",
            "\n",
            "Test Result:\n",
            "\u001b[92mPASSED\u001b[0m\n",
            "\n",
            "\n",
            "\u001b[1mTEST CASE #2\u001b[0m\n",
            "\n",
            "Input:\n",
            "{'seq1': 'asdfwevad', 'seq2': 'opkpoiklklj'}\n",
            "\n",
            "Expected Output:\n",
            "0\n",
            "\n",
            "\n",
            "Actual Output:\n",
            "0\n",
            "\n",
            "Execution Time:\n",
            "0.118 ms\n",
            "\n",
            "Test Result:\n",
            "\u001b[92mPASSED\u001b[0m\n",
            "\n",
            "\n",
            "\u001b[1mTEST CASE #3\u001b[0m\n",
            "\n",
            "Input:\n",
            "{'seq1': 'dense', 'seq2': 'condensed'}\n",
            "\n",
            "Expected Output:\n",
            "5\n",
            "\n",
            "\n",
            "Actual Output:\n",
            "5\n",
            "\n",
            "Execution Time:\n",
            "0.06 ms\n",
            "\n",
            "Test Result:\n",
            "\u001b[92mPASSED\u001b[0m\n",
            "\n",
            "\n",
            "\u001b[1mTEST CASE #4\u001b[0m\n",
            "\n",
            "Input:\n",
            "{'seq1': '', 'seq2': 'opkpoiklklj'}\n",
            "\n",
            "Expected Output:\n",
            "0\n",
            "\n",
            "\n",
            "Actual Output:\n",
            "0\n",
            "\n",
            "Execution Time:\n",
            "0.01 ms\n",
            "\n",
            "Test Result:\n",
            "\u001b[92mPASSED\u001b[0m\n",
            "\n",
            "\n",
            "\u001b[1mTEST CASE #5\u001b[0m\n",
            "\n",
            "Input:\n",
            "{'seq1': '', 'seq2': ''}\n",
            "\n",
            "Expected Output:\n",
            "0\n",
            "\n",
            "\n",
            "Actual Output:\n",
            "0\n",
            "\n",
            "Execution Time:\n",
            "0.006 ms\n",
            "\n",
            "Test Result:\n",
            "\u001b[92mPASSED\u001b[0m\n",
            "\n",
            "\n",
            "\u001b[1mTEST CASE #6\u001b[0m\n",
            "\n",
            "Input:\n",
            "{'seq1': 'abcdef', 'seq2': 'badcfe'}\n",
            "\n",
            "Expected Output:\n",
            "3\n",
            "\n",
            "\n",
            "Actual Output:\n",
            "3\n",
            "\n",
            "Execution Time:\n",
            "0.031 ms\n",
            "\n",
            "Test Result:\n",
            "\u001b[92mPASSED\u001b[0m\n",
            "\n",
            "\n",
            "\u001b[1mSUMMARY\u001b[0m\n",
            "\n",
            "TOTAL: 7, \u001b[92mPASSED\u001b[0m: 7, \u001b[91mFAILED\u001b[0m: 0\n"
          ]
        },
        {
          "output_type": "execute_result",
          "data": {
            "text/plain": [
              "[(5, True, 0.1),\n",
              " (3, True, 0.051),\n",
              " (0, True, 0.118),\n",
              " (5, True, 0.06),\n",
              " (0, True, 0.01),\n",
              " (0, True, 0.006),\n",
              " (3, True, 0.031)]"
            ]
          },
          "metadata": {},
          "execution_count": 103
        }
      ],
      "source": [
        "evaluate_test_cases(lcs_dp,lcs_tests)"
      ]
    },
    {
      "cell_type": "code",
      "execution_count": null,
      "id": "9a77bf9e",
      "metadata": {
        "id": "9a77bf9e"
      },
      "outputs": [],
      "source": [
        ""
      ]
    },
    {
      "cell_type": "code",
      "execution_count": null,
      "id": "3de3f728",
      "metadata": {
        "id": "3de3f728"
      },
      "outputs": [],
      "source": [
        ""
      ]
    },
    {
      "cell_type": "markdown",
      "id": "4c05a85d",
      "metadata": {
        "id": "4c05a85d"
      },
      "source": [
        "### 9. Analyze the algorithm's complexity and identify inefficiencies, if any."
      ]
    },
    {
      "cell_type": "code",
      "execution_count": null,
      "id": "0503cb4a",
      "metadata": {
        "id": "0503cb4a"
      },
      "outputs": [],
      "source": [
        ""
      ]
    },
    {
      "cell_type": "code",
      "execution_count": null,
      "id": "2185aae7",
      "metadata": {
        "id": "2185aae7"
      },
      "outputs": [],
      "source": [
        ""
      ]
    },
    {
      "cell_type": "code",
      "execution_count": null,
      "id": "d170140e",
      "metadata": {
        "id": "d170140e"
      },
      "outputs": [],
      "source": [
        ""
      ]
    },
    {
      "cell_type": "markdown",
      "id": "60d9c093",
      "metadata": {
        "id": "60d9c093"
      },
      "source": [
        "If you found the problem on an external platform, you can make a submission to test your solution.\n",
        "\n",
        "Share your approach and start a discussion on the Jovian forum: https://jovian.ai/forum/c/data-structures-and-algorithms-in-python/78"
      ]
    },
    {
      "cell_type": "code",
      "execution_count": 104,
      "id": "e46c750f",
      "metadata": {
        "colab": {
          "base_uri": "https://localhost:8080/",
          "height": 87
        },
        "id": "e46c750f",
        "outputId": "a89cd65f-bc26-498f-c78f-2c1539755429"
      },
      "outputs": [
        {
          "output_type": "stream",
          "name": "stdout",
          "text": [
            "[jovian] Detected Colab notebook...\u001b[0m\n",
            "[jovian] Uploading colab notebook to Jovian...\u001b[0m\n",
            "Committed successfully! https://jovian.ai/prathamesh-kashelikar/longest-common-subsequence\n"
          ]
        },
        {
          "output_type": "execute_result",
          "data": {
            "text/plain": [
              "'https://jovian.ai/prathamesh-kashelikar/longest-common-subsequence'"
            ],
            "application/vnd.google.colaboratory.intrinsic+json": {
              "type": "string"
            }
          },
          "metadata": {},
          "execution_count": 104
        }
      ],
      "source": [
        "jovian.commit()"
      ]
    },
    {
      "cell_type": "code",
      "execution_count": null,
      "id": "7280e4a3",
      "metadata": {
        "id": "7280e4a3"
      },
      "outputs": [],
      "source": [
        ""
      ]
    }
  ],
  "metadata": {
    "kernelspec": {
      "display_name": "Python 3",
      "language": "python",
      "name": "python3"
    },
    "language_info": {
      "codemirror_mode": {
        "name": "ipython",
        "version": 3
      },
      "file_extension": ".py",
      "mimetype": "text/x-python",
      "name": "python",
      "nbconvert_exporter": "python",
      "pygments_lexer": "ipython3",
      "version": "3.8.6"
    },
    "colab": {
      "name": "python-problem-solving-template.ipynb",
      "provenance": [],
      "collapsed_sections": [],
      "include_colab_link": true
    }
  },
  "nbformat": 4,
  "nbformat_minor": 5
}